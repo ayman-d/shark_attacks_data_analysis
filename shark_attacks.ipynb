{
 "cells": [
  {
   "cell_type": "markdown",
   "metadata": {},
   "source": [
    "# Introduction\n",
    "\n",
    "This data set represents collected information about known shark attack incidents dating all the way back to the year 1900\n",
    "\n",
    "Sharks scare me, so this dataset is particularly interesting to me, so I thought it would be a great subject to explore and study.\n",
    "\n",
    "My primary goal of this study is two fold, first, I want to know what the data looks like and find interesting patterns and insights in it, secondly, I want to know if I can extract a model that would be able to predict the likelyhood of a fatality once a shark attack does occur.\n",
    "\n",
    "I hope I can get both of those goals achieved, but no matter the outcome, I will document it here for any reviewer to see and share this exporatory journey with me."
   ]
  },
  {
   "cell_type": "markdown",
   "metadata": {},
   "source": [
    "# Questions\n",
    "\n",
    "<h3>My aim of this study is to answer some fundemental questions about this data set</h3>\n",
    "\n",
    "1- How does the number of attacks change when looked at against the variables related to the victims of the attacks?\n",
    "\n",
    "2- Which activities have a higher chance of exposing us to shark attacks? \n",
    "    - I believe this to be a crucial question as it can provide insight on which activities we need to be careful doing to avoid any risk of shark attacks.\n",
    "\n",
    "3- Where do most shark attacks occur? and is this data consistent throughout the year or does it change seasonaly? \n",
    "    - I ask this question to take into consideration possible shark migrations or vacation seasons where people are more likely to be in certain countries or more likely to spend more time in beaches or oceans.\n",
    "\n",
    "4- In the scenario of a shark attack occurring, is there any modeling we can do that could predict the likelyhood of surviving the attack given the data in this dataset?\n"
   ]
  },
  {
   "cell_type": "markdown",
   "metadata": {},
   "source": [
    "# ---\n",
    "import all required tools and libraries to being our analysis"
   ]
  },
  {
   "cell_type": "code",
   "execution_count": 1,
   "metadata": {},
   "outputs": [],
   "source": [
    "import pandas as pd\n",
    "%matplotlib inline\n",
    "import seaborn as sen\n",
    "sen.set()\n",
    "import numpy as np"
   ]
  },
  {
   "cell_type": "code",
   "execution_count": 2,
   "metadata": {},
   "outputs": [],
   "source": [
    "df = pd.read_excel('sharks_adjusted.xlsx')"
   ]
  },
  {
   "cell_type": "markdown",
   "metadata": {},
   "source": [
    "# draw basic insights from the initial state of our dataset¶"
   ]
  },
  {
   "cell_type": "markdown",
   "metadata": {},
   "source": [
    "* A quick view of the top and bottom portions of the dataset"
   ]
  },
  {
   "cell_type": "code",
   "execution_count": 3,
   "metadata": {},
   "outputs": [
    {
     "data": {
      "text/html": [
       "<div>\n",
       "<style scoped>\n",
       "    .dataframe tbody tr th:only-of-type {\n",
       "        vertical-align: middle;\n",
       "    }\n",
       "\n",
       "    .dataframe tbody tr th {\n",
       "        vertical-align: top;\n",
       "    }\n",
       "\n",
       "    .dataframe thead th {\n",
       "        text-align: right;\n",
       "    }\n",
       "</style>\n",
       "<table border=\"1\" class=\"dataframe\">\n",
       "  <thead>\n",
       "    <tr style=\"text-align: right;\">\n",
       "      <th></th>\n",
       "      <th>Case Number</th>\n",
       "      <th>Date</th>\n",
       "      <th>Type</th>\n",
       "      <th>Country</th>\n",
       "      <th>Area</th>\n",
       "      <th>Location</th>\n",
       "      <th>Activity</th>\n",
       "      <th>Name</th>\n",
       "      <th>Gender</th>\n",
       "      <th>Age</th>\n",
       "      <th>Injury</th>\n",
       "      <th>Fatal (Y/N)</th>\n",
       "      <th>Investigator or Source</th>\n",
       "    </tr>\n",
       "  </thead>\n",
       "  <tbody>\n",
       "    <tr>\n",
       "      <th>0</th>\n",
       "      <td>1900.01.28</td>\n",
       "      <td>1900-01-28</td>\n",
       "      <td>Unprovoked</td>\n",
       "      <td>Australia</td>\n",
       "      <td>New South Wales</td>\n",
       "      <td>Lane Cove River, Sydney Harbor (Estuary)</td>\n",
       "      <td>Fishing</td>\n",
       "      <td>Charles Duck</td>\n",
       "      <td>M</td>\n",
       "      <td>Unknown</td>\n",
       "      <td>Right posterior thigh bitten</td>\n",
       "      <td>N</td>\n",
       "      <td>Poverty Bay Herald, 2/12/1900</td>\n",
       "    </tr>\n",
       "    <tr>\n",
       "      <th>1</th>\n",
       "      <td>1900.07.00</td>\n",
       "      <td>1900-07-01</td>\n",
       "      <td>Provoked</td>\n",
       "      <td>USA</td>\n",
       "      <td>Connecticut</td>\n",
       "      <td>Bridgeport, Fairfield County</td>\n",
       "      <td>Fishing</td>\n",
       "      <td>skiff with Dr. William T. Healey, Dr. Henry Ca...</td>\n",
       "      <td>M</td>\n",
       "      <td>Unknown</td>\n",
       "      <td>No injury to occupants. They shot shark, then ...</td>\n",
       "      <td>N</td>\n",
       "      <td>Times, 8/1/1900</td>\n",
       "    </tr>\n",
       "    <tr>\n",
       "      <th>2</th>\n",
       "      <td>1900.07.14</td>\n",
       "      <td>1900-07-14</td>\n",
       "      <td>Invalid</td>\n",
       "      <td>USA</td>\n",
       "      <td>Hawaii</td>\n",
       "      <td>Makapu'u Point, O'ahu</td>\n",
       "      <td>Fishing</td>\n",
       "      <td>Emil Uhlbrecht &amp; unidentified person</td>\n",
       "      <td>M</td>\n",
       "      <td>Unknown</td>\n",
       "      <td>Believed drowned. Uhlbrecht’s foot, and the pe...</td>\n",
       "      <td>Y</td>\n",
       "      <td>Los Angeles Times, 7/28/1900</td>\n",
       "    </tr>\n",
       "    <tr>\n",
       "      <th>3</th>\n",
       "      <td>1900.07.31</td>\n",
       "      <td>1900-07-31</td>\n",
       "      <td>Unprovoked</td>\n",
       "      <td>Croatia</td>\n",
       "      <td>Primorje-Gorski Kotar County</td>\n",
       "      <td>Volosko, Opatija</td>\n",
       "      <td>Swimming</td>\n",
       "      <td>male</td>\n",
       "      <td>M</td>\n",
       "      <td>Unknown</td>\n",
       "      <td>FATAL</td>\n",
       "      <td>Y</td>\n",
       "      <td>C. Moore, GSAF</td>\n",
       "    </tr>\n",
       "    <tr>\n",
       "      <th>4</th>\n",
       "      <td>1900.08.21</td>\n",
       "      <td>1900-08-21</td>\n",
       "      <td>Unprovoked</td>\n",
       "      <td>USA</td>\n",
       "      <td>North Carolina</td>\n",
       "      <td>Southport, Brunswick County</td>\n",
       "      <td>Swimming</td>\n",
       "      <td>Burris</td>\n",
       "      <td>M</td>\n",
       "      <td>Unknown</td>\n",
       "      <td>Left hand lacerated</td>\n",
       "      <td>N</td>\n",
       "      <td>C. Creswell, GSAF</td>\n",
       "    </tr>\n",
       "    <tr>\n",
       "      <th>5</th>\n",
       "      <td>1900.09.05</td>\n",
       "      <td>1900-09-05</td>\n",
       "      <td>Unprovoked</td>\n",
       "      <td>USA</td>\n",
       "      <td>Hawaii</td>\n",
       "      <td>Waikiki Beach, Oahu</td>\n",
       "      <td>Swimming</td>\n",
       "      <td>Joe Hartman</td>\n",
       "      <td>M</td>\n",
       "      <td>Unknown</td>\n",
       "      <td>Bathing suit torn &amp; \"imprints of the shark's t...</td>\n",
       "      <td>N</td>\n",
       "      <td>Honolulu Republican, 9/6/1900</td>\n",
       "    </tr>\n",
       "    <tr>\n",
       "      <th>6</th>\n",
       "      <td>1900.09.13</td>\n",
       "      <td>1900-09-13</td>\n",
       "      <td>Unprovoked</td>\n",
       "      <td>USA</td>\n",
       "      <td>Rhode Island</td>\n",
       "      <td>Coddington Cove</td>\n",
       "      <td>Diving</td>\n",
       "      <td>George Brown</td>\n",
       "      <td>M</td>\n",
       "      <td>Unknown</td>\n",
       "      <td>No injury</td>\n",
       "      <td>N</td>\n",
       "      <td>NY Times, 9/14/1900</td>\n",
       "    </tr>\n",
       "    <tr>\n",
       "      <th>7</th>\n",
       "      <td>1900.09.15</td>\n",
       "      <td>1900-09-15</td>\n",
       "      <td>Unprovoked</td>\n",
       "      <td>Australia</td>\n",
       "      <td>Queensland</td>\n",
       "      <td>Townsville</td>\n",
       "      <td>Swimming</td>\n",
       "      <td>John Hennessy</td>\n",
       "      <td>M</td>\n",
       "      <td>Unknown</td>\n",
       "      <td>Laceration to right leg</td>\n",
       "      <td>N</td>\n",
       "      <td>Sydney Morning Herald, 9/17/1900</td>\n",
       "    </tr>\n",
       "    <tr>\n",
       "      <th>8</th>\n",
       "      <td>1900.10.27</td>\n",
       "      <td>1900-10-27</td>\n",
       "      <td>Invalid</td>\n",
       "      <td>South Africa</td>\n",
       "      <td>Western Cape Province</td>\n",
       "      <td>Woodstock Beach, Cape Town</td>\n",
       "      <td>Swimming</td>\n",
       "      <td>Amos Layzell</td>\n",
       "      <td>M</td>\n",
       "      <td>Unknown</td>\n",
       "      <td>Probable drowning &amp; scavenging</td>\n",
       "      <td>Y</td>\n",
       "      <td>P. Logan; M. Levine, GSAF</td>\n",
       "    </tr>\n",
       "    <tr>\n",
       "      <th>9</th>\n",
       "      <td>1900.11.14</td>\n",
       "      <td>1900-11-14</td>\n",
       "      <td>Unprovoked</td>\n",
       "      <td>South Africa</td>\n",
       "      <td>Western Cape Province</td>\n",
       "      <td>Three Anchor Bay</td>\n",
       "      <td>Swimming</td>\n",
       "      <td>William Strathorn</td>\n",
       "      <td>M</td>\n",
       "      <td>30</td>\n",
       "      <td>FATAL, legs severed</td>\n",
       "      <td>Y</td>\n",
       "      <td>P. Logan; M. Levine, GSAF</td>\n",
       "    </tr>\n",
       "  </tbody>\n",
       "</table>\n",
       "</div>"
      ],
      "text/plain": [
       "  Case Number       Date        Type       Country  \\\n",
       "0  1900.01.28 1900-01-28  Unprovoked     Australia   \n",
       "1  1900.07.00 1900-07-01    Provoked           USA   \n",
       "2  1900.07.14 1900-07-14     Invalid           USA   \n",
       "3  1900.07.31 1900-07-31  Unprovoked       Croatia   \n",
       "4  1900.08.21 1900-08-21  Unprovoked           USA   \n",
       "5  1900.09.05 1900-09-05  Unprovoked           USA   \n",
       "6  1900.09.13 1900-09-13  Unprovoked           USA   \n",
       "7  1900.09.15 1900-09-15  Unprovoked     Australia   \n",
       "8  1900.10.27 1900-10-27     Invalid  South Africa   \n",
       "9  1900.11.14 1900-11-14  Unprovoked  South Africa   \n",
       "\n",
       "                           Area                                  Location  \\\n",
       "0               New South Wales  Lane Cove River, Sydney Harbor (Estuary)   \n",
       "1                   Connecticut              Bridgeport, Fairfield County   \n",
       "2                        Hawaii                     Makapu'u Point, O'ahu   \n",
       "3  Primorje-Gorski Kotar County                          Volosko, Opatija   \n",
       "4                North Carolina               Southport, Brunswick County   \n",
       "5                        Hawaii                       Waikiki Beach, Oahu   \n",
       "6                  Rhode Island                           Coddington Cove   \n",
       "7                    Queensland                                Townsville   \n",
       "8         Western Cape Province                Woodstock Beach, Cape Town   \n",
       "9         Western Cape Province                          Three Anchor Bay   \n",
       "\n",
       "   Activity                                               Name Gender  \\\n",
       "0   Fishing                                       Charles Duck      M   \n",
       "1   Fishing  skiff with Dr. William T. Healey, Dr. Henry Ca...      M   \n",
       "2   Fishing               Emil Uhlbrecht & unidentified person      M   \n",
       "3  Swimming                                               male      M   \n",
       "4  Swimming                                             Burris      M   \n",
       "5  Swimming                                        Joe Hartman      M   \n",
       "6    Diving                                       George Brown      M   \n",
       "7  Swimming                                      John Hennessy      M   \n",
       "8  Swimming                                       Amos Layzell      M   \n",
       "9  Swimming                                  William Strathorn      M   \n",
       "\n",
       "       Age                                             Injury Fatal (Y/N)  \\\n",
       "0  Unknown                       Right posterior thigh bitten           N   \n",
       "1  Unknown  No injury to occupants. They shot shark, then ...           N   \n",
       "2  Unknown  Believed drowned. Uhlbrecht’s foot, and the pe...           Y   \n",
       "3  Unknown                                              FATAL           Y   \n",
       "4  Unknown                                Left hand lacerated           N   \n",
       "5  Unknown  Bathing suit torn & \"imprints of the shark's t...           N   \n",
       "6  Unknown                                          No injury           N   \n",
       "7  Unknown                            Laceration to right leg           N   \n",
       "8  Unknown                     Probable drowning & scavenging           Y   \n",
       "9       30                                FATAL, legs severed           Y   \n",
       "\n",
       "             Investigator or Source  \n",
       "0     Poverty Bay Herald, 2/12/1900  \n",
       "1                   Times, 8/1/1900  \n",
       "2      Los Angeles Times, 7/28/1900  \n",
       "3                    C. Moore, GSAF  \n",
       "4                 C. Creswell, GSAF  \n",
       "5     Honolulu Republican, 9/6/1900  \n",
       "6               NY Times, 9/14/1900  \n",
       "7  Sydney Morning Herald, 9/17/1900  \n",
       "8         P. Logan; M. Levine, GSAF  \n",
       "9         P. Logan; M. Levine, GSAF  "
      ]
     },
     "execution_count": 3,
     "metadata": {},
     "output_type": "execute_result"
    }
   ],
   "source": [
    "df.head(10)"
   ]
  },
  {
   "cell_type": "code",
   "execution_count": 4,
   "metadata": {},
   "outputs": [
    {
     "data": {
      "text/html": [
       "<div>\n",
       "<style scoped>\n",
       "    .dataframe tbody tr th:only-of-type {\n",
       "        vertical-align: middle;\n",
       "    }\n",
       "\n",
       "    .dataframe tbody tr th {\n",
       "        vertical-align: top;\n",
       "    }\n",
       "\n",
       "    .dataframe thead th {\n",
       "        text-align: right;\n",
       "    }\n",
       "</style>\n",
       "<table border=\"1\" class=\"dataframe\">\n",
       "  <thead>\n",
       "    <tr style=\"text-align: right;\">\n",
       "      <th></th>\n",
       "      <th>Case Number</th>\n",
       "      <th>Date</th>\n",
       "      <th>Type</th>\n",
       "      <th>Country</th>\n",
       "      <th>Area</th>\n",
       "      <th>Location</th>\n",
       "      <th>Activity</th>\n",
       "      <th>Name</th>\n",
       "      <th>Gender</th>\n",
       "      <th>Age</th>\n",
       "      <th>Injury</th>\n",
       "      <th>Fatal (Y/N)</th>\n",
       "      <th>Investigator or Source</th>\n",
       "    </tr>\n",
       "  </thead>\n",
       "  <tbody>\n",
       "    <tr>\n",
       "      <th>5282</th>\n",
       "      <td>2016.09.05.a</td>\n",
       "      <td>2016-09-05</td>\n",
       "      <td>Unprovoked</td>\n",
       "      <td>Australia</td>\n",
       "      <td>Western Australia</td>\n",
       "      <td>Injidup</td>\n",
       "      <td>Surfing</td>\n",
       "      <td>Fraser Penman</td>\n",
       "      <td>M</td>\n",
       "      <td>Unknown</td>\n",
       "      <td>No inury, board broken in half by shark</td>\n",
       "      <td>N</td>\n",
       "      <td>Perth Now, 9/5/2016</td>\n",
       "    </tr>\n",
       "    <tr>\n",
       "      <th>5283</th>\n",
       "      <td>2016.09.06</td>\n",
       "      <td>2016-09-06</td>\n",
       "      <td>Unprovoked</td>\n",
       "      <td>New Caledonia</td>\n",
       "      <td>North Province</td>\n",
       "      <td>Koumac</td>\n",
       "      <td>Surfing</td>\n",
       "      <td>David Jewell</td>\n",
       "      <td>M</td>\n",
       "      <td>50</td>\n",
       "      <td>FATAL</td>\n",
       "      <td>Y</td>\n",
       "      <td>TVANouvelles, 9/6/2016</td>\n",
       "    </tr>\n",
       "    <tr>\n",
       "      <th>5284</th>\n",
       "      <td>2016.09.07</td>\n",
       "      <td>2016-09-07</td>\n",
       "      <td>Unprovoked</td>\n",
       "      <td>USA</td>\n",
       "      <td>Hawaii</td>\n",
       "      <td>Makaha, Oahu</td>\n",
       "      <td>Swimming</td>\n",
       "      <td>female</td>\n",
       "      <td>F</td>\n",
       "      <td>51</td>\n",
       "      <td>Severe lacerations to shoulder &amp; forearm</td>\n",
       "      <td>N</td>\n",
       "      <td>Hawaii News Now, 9/7/2016</td>\n",
       "    </tr>\n",
       "    <tr>\n",
       "      <th>5285</th>\n",
       "      <td>2016.09.11</td>\n",
       "      <td>2016-09-11</td>\n",
       "      <td>Unprovoked</td>\n",
       "      <td>USA</td>\n",
       "      <td>Florida</td>\n",
       "      <td>Ponte Vedra, St. Johns County</td>\n",
       "      <td>Fishing</td>\n",
       "      <td>male</td>\n",
       "      <td>M</td>\n",
       "      <td>Unknown</td>\n",
       "      <td>Minor injury to arm</td>\n",
       "      <td>N</td>\n",
       "      <td>News4Jax, 9/11/2016</td>\n",
       "    </tr>\n",
       "    <tr>\n",
       "      <th>5286</th>\n",
       "      <td>2016.09.15.R</td>\n",
       "      <td>2016-09-15</td>\n",
       "      <td>Boat</td>\n",
       "      <td>Australia</td>\n",
       "      <td>Western Australia</td>\n",
       "      <td>Bunbury</td>\n",
       "      <td>Fishing</td>\n",
       "      <td>Occupant: Ben Stratton</td>\n",
       "      <td>M</td>\n",
       "      <td>Unknown</td>\n",
       "      <td>Shark rammed boat. No injury to occupant</td>\n",
       "      <td>N</td>\n",
       "      <td>West Australian, 9/15/2016</td>\n",
       "    </tr>\n",
       "    <tr>\n",
       "      <th>5287</th>\n",
       "      <td>2016.09.15</td>\n",
       "      <td>2016-09-16</td>\n",
       "      <td>Unprovoked</td>\n",
       "      <td>Australia</td>\n",
       "      <td>Victoria</td>\n",
       "      <td>Bells Beach</td>\n",
       "      <td>Surfing</td>\n",
       "      <td>male</td>\n",
       "      <td>M</td>\n",
       "      <td>Unknown</td>\n",
       "      <td>No injury: Knocked off board by shark</td>\n",
       "      <td>N</td>\n",
       "      <td>The Age, 9/16/2016</td>\n",
       "    </tr>\n",
       "    <tr>\n",
       "      <th>5288</th>\n",
       "      <td>2016.09.17</td>\n",
       "      <td>2016-09-17</td>\n",
       "      <td>Unprovoked</td>\n",
       "      <td>Australia</td>\n",
       "      <td>Victoria</td>\n",
       "      <td>Thirteenth Beach</td>\n",
       "      <td>Surfing</td>\n",
       "      <td>Rory Angiolella</td>\n",
       "      <td>M</td>\n",
       "      <td>Unknown</td>\n",
       "      <td>Struck by fin on chest &amp; leg</td>\n",
       "      <td>N</td>\n",
       "      <td>The Age, 9/18/2016</td>\n",
       "    </tr>\n",
       "    <tr>\n",
       "      <th>5289</th>\n",
       "      <td>2016.09.18.c</td>\n",
       "      <td>2016-09-18</td>\n",
       "      <td>Unprovoked</td>\n",
       "      <td>USA</td>\n",
       "      <td>Florida</td>\n",
       "      <td>New Smyrna Beach, Volusia County</td>\n",
       "      <td>Surfing</td>\n",
       "      <td>male</td>\n",
       "      <td>M</td>\n",
       "      <td>16</td>\n",
       "      <td>Minor injury to thigh</td>\n",
       "      <td>N</td>\n",
       "      <td>Orlando Sentinel, 9/19/2016</td>\n",
       "    </tr>\n",
       "    <tr>\n",
       "      <th>5290</th>\n",
       "      <td>2016.09.18.b</td>\n",
       "      <td>2016-09-18</td>\n",
       "      <td>Unprovoked</td>\n",
       "      <td>USA</td>\n",
       "      <td>Florida</td>\n",
       "      <td>New Smyrna Beach, Volusia County</td>\n",
       "      <td>Surfing</td>\n",
       "      <td>Chucky Luciano</td>\n",
       "      <td>M</td>\n",
       "      <td>36</td>\n",
       "      <td>Lacerations to hands</td>\n",
       "      <td>N</td>\n",
       "      <td>Orlando Sentinel, 9/19/2016</td>\n",
       "    </tr>\n",
       "    <tr>\n",
       "      <th>5291</th>\n",
       "      <td>2016.09.18.a</td>\n",
       "      <td>2016-09-18</td>\n",
       "      <td>Unprovoked</td>\n",
       "      <td>USA</td>\n",
       "      <td>Florida</td>\n",
       "      <td>New Smyrna Beach, Volusia County</td>\n",
       "      <td>Surfing</td>\n",
       "      <td>male</td>\n",
       "      <td>M</td>\n",
       "      <td>43</td>\n",
       "      <td>Lacerations to lower leg</td>\n",
       "      <td>N</td>\n",
       "      <td>Orlando Sentinel, 9/19/2016</td>\n",
       "    </tr>\n",
       "  </tbody>\n",
       "</table>\n",
       "</div>"
      ],
      "text/plain": [
       "       Case Number       Date        Type        Country               Area  \\\n",
       "5282  2016.09.05.a 2016-09-05  Unprovoked      Australia  Western Australia   \n",
       "5283    2016.09.06 2016-09-06  Unprovoked  New Caledonia     North Province   \n",
       "5284    2016.09.07 2016-09-07  Unprovoked            USA             Hawaii   \n",
       "5285    2016.09.11 2016-09-11  Unprovoked            USA            Florida   \n",
       "5286  2016.09.15.R 2016-09-15        Boat      Australia  Western Australia   \n",
       "5287    2016.09.15 2016-09-16  Unprovoked      Australia           Victoria   \n",
       "5288    2016.09.17 2016-09-17  Unprovoked      Australia           Victoria   \n",
       "5289  2016.09.18.c 2016-09-18  Unprovoked            USA            Florida   \n",
       "5290  2016.09.18.b 2016-09-18  Unprovoked            USA            Florida   \n",
       "5291  2016.09.18.a 2016-09-18  Unprovoked            USA            Florida   \n",
       "\n",
       "                              Location  Activity                    Name  \\\n",
       "5282                          Injidup    Surfing           Fraser Penman   \n",
       "5283                            Koumac   Surfing            David Jewell   \n",
       "5284                      Makaha, Oahu  Swimming                  female   \n",
       "5285     Ponte Vedra, St. Johns County   Fishing                    male   \n",
       "5286                           Bunbury   Fishing  Occupant: Ben Stratton   \n",
       "5287                       Bells Beach   Surfing                    male   \n",
       "5288                  Thirteenth Beach   Surfing         Rory Angiolella   \n",
       "5289  New Smyrna Beach, Volusia County   Surfing                    male   \n",
       "5290  New Smyrna Beach, Volusia County   Surfing          Chucky Luciano   \n",
       "5291  New Smyrna Beach, Volusia County   Surfing                    male   \n",
       "\n",
       "     Gender      Age                                    Injury Fatal (Y/N)  \\\n",
       "5282      M  Unknown   No inury, board broken in half by shark           N   \n",
       "5283      M       50                                     FATAL           Y   \n",
       "5284      F       51  Severe lacerations to shoulder & forearm           N   \n",
       "5285      M  Unknown                       Minor injury to arm           N   \n",
       "5286      M  Unknown  Shark rammed boat. No injury to occupant           N   \n",
       "5287      M  Unknown     No injury: Knocked off board by shark           N   \n",
       "5288      M  Unknown              Struck by fin on chest & leg           N   \n",
       "5289      M       16                     Minor injury to thigh           N   \n",
       "5290      M       36                      Lacerations to hands           N   \n",
       "5291      M       43                  Lacerations to lower leg           N   \n",
       "\n",
       "           Investigator or Source  \n",
       "5282          Perth Now, 9/5/2016  \n",
       "5283       TVANouvelles, 9/6/2016  \n",
       "5284    Hawaii News Now, 9/7/2016  \n",
       "5285          News4Jax, 9/11/2016  \n",
       "5286   West Australian, 9/15/2016  \n",
       "5287           The Age, 9/16/2016  \n",
       "5288           The Age, 9/18/2016  \n",
       "5289  Orlando Sentinel, 9/19/2016  \n",
       "5290  Orlando Sentinel, 9/19/2016  \n",
       "5291  Orlando Sentinel, 9/19/2016  "
      ]
     },
     "execution_count": 4,
     "metadata": {},
     "output_type": "execute_result"
    }
   ],
   "source": [
    "df.tail(10)"
   ]
  },
  {
   "cell_type": "markdown",
   "metadata": {},
   "source": [
    "* Check general info of the dataset to examine the number of null values and data types"
   ]
  },
  {
   "cell_type": "code",
   "execution_count": 5,
   "metadata": {},
   "outputs": [
    {
     "name": "stdout",
     "output_type": "stream",
     "text": [
      "<class 'pandas.core.frame.DataFrame'>\n",
      "RangeIndex: 5292 entries, 0 to 5291\n",
      "Data columns (total 13 columns):\n",
      "Case Number               5292 non-null object\n",
      "Date                      5292 non-null datetime64[ns]\n",
      "Type                      5292 non-null object\n",
      "Country                   5292 non-null object\n",
      "Area                      5292 non-null object\n",
      "Location                  4926 non-null object\n",
      "Activity                  5292 non-null object\n",
      "Name                      5139 non-null object\n",
      "Gender                    5292 non-null object\n",
      "Age                       5292 non-null object\n",
      "Injury                    5272 non-null object\n",
      "Fatal (Y/N)               5292 non-null object\n",
      "Investigator or Source    5279 non-null object\n",
      "dtypes: datetime64[ns](1), object(12)\n",
      "memory usage: 537.5+ KB\n"
     ]
    }
   ],
   "source": [
    "df.info()"
   ]
  },
  {
   "cell_type": "markdown",
   "metadata": {},
   "source": [
    "* Check the number of unique values in each column"
   ]
  },
  {
   "cell_type": "code",
   "execution_count": 6,
   "metadata": {},
   "outputs": [
    {
     "data": {
      "text/plain": [
       "Case Number               5277\n",
       "Date                      4463\n",
       "Type                         6\n",
       "Country                    167\n",
       "Area                       665\n",
       "Location                  3532\n",
       "Activity                     6\n",
       "Name                      4530\n",
       "Gender                       2\n",
       "Age                         80\n",
       "Injury                    3306\n",
       "Fatal (Y/N)                  2\n",
       "Investigator or Source    4202\n",
       "dtype: int64"
      ]
     },
     "execution_count": 6,
     "metadata": {},
     "output_type": "execute_result"
    }
   ],
   "source": [
    "df.nunique()"
   ]
  },
  {
   "cell_type": "markdown",
   "metadata": {},
   "source": [
    "# The initial look at this data tells us a few things that we can use to forumlate our plan going forward\n",
    "\n",
    "<h3>There are a few columns that we can get rid off completely to make our data cleaner:</h3>\n",
    "\n",
    "- 'Case Number' column is not needed as it just contains the date which is already available, and we cannot use it to get any substantial info.\n",
    "- 'Area' & 'Location' columns are probably something we can do without, as we can use the 'Country' column to get the information we need, this way we also won't have to get rid of any rows that contain null values in those 2 columns.\n",
    "- 'Name' column would not add any value to our goal or answer any of our questions, so we can drop it.\n",
    "- 'Injury' & 'Investigator or Source' columns are not needed as it has too many variations and does not add substantial information to aid with our questions.\n",
    "- 'Type' column is not required as a better version of that data can be derived from the 'Activity' column after it ha been cleaned and adjusted to contain a small number of unique values.\n",
    "\n",
    "<h3>In order for us to be able to use the data more effeciently and use models, I had to change some columns structure:</h3>\n",
    "\n",
    "- 'Fatal' and 'Gender' columns play an important role in our data set, and to use them efficiently we need them to be numerical instead of categorical, so we will add two more columns for these two values where the values would be 1 and 0 instead of Y/N for 'Fatal' and 1 and 0 instead of Male/Female for 'Gender'.\n",
    "- 'Age' column is an important series in our dataset, however we can see that there are a lot of missing values in this series and the data type of this column is 'object', in order to mitigate this problem, I will replace the missing values with the mean and change the data type to integer.\n",
    "    - This is to ensure that the missing values do not affect the integrity of the values that we do have.\n",
    "\n",
    "<h3>My biggest challenge: the 'Activity' series</h3>\n",
    "\n",
    "- I consider this column to be extremely important for our end goal and the insights we want to extract from our data, but I preceive this series to be my biggest challenge, as it has many unique values which are similar but with slight variation in the text (i.e. fishing & spear fishing), in order to take advantage of this series, I will need to group this small variation into a few types or categories of activities so that we can use it to draw the insights we need and hopefully use it in our predictive model."
   ]
  },
  {
   "cell_type": "markdown",
   "metadata": {},
   "source": [
    "# ---\n",
    "<h3>* Phase 1: Deleting unwanted columns</h3>"
   ]
  },
  {
   "cell_type": "markdown",
   "metadata": {},
   "source": [
    "drop the columns we will not be using further in our study"
   ]
  },
  {
   "cell_type": "code",
   "execution_count": 7,
   "metadata": {},
   "outputs": [],
   "source": [
    "df.drop(['Case Number','Type','Area','Location','Name','Injury','Investigator or Source'], axis=1, inplace=True)"
   ]
  },
  {
   "cell_type": "markdown",
   "metadata": {},
   "source": [
    "change the column names to lower case for ease of use going forward as well as change the 'gender' and 'fatal' columns to prepare them to have 1s and 0s as values"
   ]
  },
  {
   "cell_type": "code",
   "execution_count": 8,
   "metadata": {},
   "outputs": [],
   "source": [
    "df.rename(columns={'Date':'date','Country':'country','Activity':'activity',\n",
    "                  'Gender':'is_male','Age':'age','Fatal (Y/N)':'fatal'}, inplace=True)"
   ]
  },
  {
   "cell_type": "markdown",
   "metadata": {},
   "source": [
    "check changes"
   ]
  },
  {
   "cell_type": "code",
   "execution_count": 9,
   "metadata": {},
   "outputs": [
    {
     "data": {
      "text/html": [
       "<div>\n",
       "<style scoped>\n",
       "    .dataframe tbody tr th:only-of-type {\n",
       "        vertical-align: middle;\n",
       "    }\n",
       "\n",
       "    .dataframe tbody tr th {\n",
       "        vertical-align: top;\n",
       "    }\n",
       "\n",
       "    .dataframe thead th {\n",
       "        text-align: right;\n",
       "    }\n",
       "</style>\n",
       "<table border=\"1\" class=\"dataframe\">\n",
       "  <thead>\n",
       "    <tr style=\"text-align: right;\">\n",
       "      <th></th>\n",
       "      <th>date</th>\n",
       "      <th>country</th>\n",
       "      <th>activity</th>\n",
       "      <th>is_male</th>\n",
       "      <th>age</th>\n",
       "      <th>fatal</th>\n",
       "    </tr>\n",
       "  </thead>\n",
       "  <tbody>\n",
       "    <tr>\n",
       "      <th>0</th>\n",
       "      <td>1900-01-28</td>\n",
       "      <td>Australia</td>\n",
       "      <td>Fishing</td>\n",
       "      <td>M</td>\n",
       "      <td>Unknown</td>\n",
       "      <td>N</td>\n",
       "    </tr>\n",
       "    <tr>\n",
       "      <th>1</th>\n",
       "      <td>1900-07-01</td>\n",
       "      <td>USA</td>\n",
       "      <td>Fishing</td>\n",
       "      <td>M</td>\n",
       "      <td>Unknown</td>\n",
       "      <td>N</td>\n",
       "    </tr>\n",
       "    <tr>\n",
       "      <th>2</th>\n",
       "      <td>1900-07-14</td>\n",
       "      <td>USA</td>\n",
       "      <td>Fishing</td>\n",
       "      <td>M</td>\n",
       "      <td>Unknown</td>\n",
       "      <td>Y</td>\n",
       "    </tr>\n",
       "    <tr>\n",
       "      <th>3</th>\n",
       "      <td>1900-07-31</td>\n",
       "      <td>Croatia</td>\n",
       "      <td>Swimming</td>\n",
       "      <td>M</td>\n",
       "      <td>Unknown</td>\n",
       "      <td>Y</td>\n",
       "    </tr>\n",
       "    <tr>\n",
       "      <th>4</th>\n",
       "      <td>1900-08-21</td>\n",
       "      <td>USA</td>\n",
       "      <td>Swimming</td>\n",
       "      <td>M</td>\n",
       "      <td>Unknown</td>\n",
       "      <td>N</td>\n",
       "    </tr>\n",
       "  </tbody>\n",
       "</table>\n",
       "</div>"
      ],
      "text/plain": [
       "        date    country  activity is_male      age fatal\n",
       "0 1900-01-28  Australia   Fishing       M  Unknown     N\n",
       "1 1900-07-01        USA   Fishing       M  Unknown     N\n",
       "2 1900-07-14        USA   Fishing       M  Unknown     Y\n",
       "3 1900-07-31    Croatia  Swimming       M  Unknown     Y\n",
       "4 1900-08-21        USA  Swimming       M  Unknown     N"
      ]
     },
     "execution_count": 9,
     "metadata": {},
     "output_type": "execute_result"
    }
   ],
   "source": [
    "# check change took place without any problems\n",
    "df.head()"
   ]
  },
  {
   "cell_type": "markdown",
   "metadata": {},
   "source": [
    "# ---\n",
    "<h3>* Phase 2: Data wrangling</h3>"
   ]
  },
  {
   "cell_type": "markdown",
   "metadata": {},
   "source": [
    "change the 'is_male' column to have values of 1 and 0 instead of M and F"
   ]
  },
  {
   "cell_type": "code",
   "execution_count": 10,
   "metadata": {},
   "outputs": [],
   "source": [
    "df.is_male = df.is_male.map({'M':1,'F':0})"
   ]
  },
  {
   "cell_type": "markdown",
   "metadata": {},
   "source": [
    "change the 'fatal' column to have values of 1 and 0 instead of Y and N"
   ]
  },
  {
   "cell_type": "code",
   "execution_count": 11,
   "metadata": {},
   "outputs": [],
   "source": [
    "df.fatal = df.fatal.map({'Y':1,'N':0})"
   ]
  },
  {
   "cell_type": "markdown",
   "metadata": {},
   "source": [
    "check changes"
   ]
  },
  {
   "cell_type": "code",
   "execution_count": 12,
   "metadata": {},
   "outputs": [
    {
     "data": {
      "text/html": [
       "<div>\n",
       "<style scoped>\n",
       "    .dataframe tbody tr th:only-of-type {\n",
       "        vertical-align: middle;\n",
       "    }\n",
       "\n",
       "    .dataframe tbody tr th {\n",
       "        vertical-align: top;\n",
       "    }\n",
       "\n",
       "    .dataframe thead th {\n",
       "        text-align: right;\n",
       "    }\n",
       "</style>\n",
       "<table border=\"1\" class=\"dataframe\">\n",
       "  <thead>\n",
       "    <tr style=\"text-align: right;\">\n",
       "      <th></th>\n",
       "      <th>date</th>\n",
       "      <th>country</th>\n",
       "      <th>activity</th>\n",
       "      <th>is_male</th>\n",
       "      <th>age</th>\n",
       "      <th>fatal</th>\n",
       "    </tr>\n",
       "  </thead>\n",
       "  <tbody>\n",
       "    <tr>\n",
       "      <th>0</th>\n",
       "      <td>1900-01-28</td>\n",
       "      <td>Australia</td>\n",
       "      <td>Fishing</td>\n",
       "      <td>1</td>\n",
       "      <td>Unknown</td>\n",
       "      <td>0</td>\n",
       "    </tr>\n",
       "    <tr>\n",
       "      <th>1</th>\n",
       "      <td>1900-07-01</td>\n",
       "      <td>USA</td>\n",
       "      <td>Fishing</td>\n",
       "      <td>1</td>\n",
       "      <td>Unknown</td>\n",
       "      <td>0</td>\n",
       "    </tr>\n",
       "    <tr>\n",
       "      <th>2</th>\n",
       "      <td>1900-07-14</td>\n",
       "      <td>USA</td>\n",
       "      <td>Fishing</td>\n",
       "      <td>1</td>\n",
       "      <td>Unknown</td>\n",
       "      <td>1</td>\n",
       "    </tr>\n",
       "    <tr>\n",
       "      <th>3</th>\n",
       "      <td>1900-07-31</td>\n",
       "      <td>Croatia</td>\n",
       "      <td>Swimming</td>\n",
       "      <td>1</td>\n",
       "      <td>Unknown</td>\n",
       "      <td>1</td>\n",
       "    </tr>\n",
       "    <tr>\n",
       "      <th>4</th>\n",
       "      <td>1900-08-21</td>\n",
       "      <td>USA</td>\n",
       "      <td>Swimming</td>\n",
       "      <td>1</td>\n",
       "      <td>Unknown</td>\n",
       "      <td>0</td>\n",
       "    </tr>\n",
       "  </tbody>\n",
       "</table>\n",
       "</div>"
      ],
      "text/plain": [
       "        date    country  activity  is_male      age  fatal\n",
       "0 1900-01-28  Australia   Fishing        1  Unknown      0\n",
       "1 1900-07-01        USA   Fishing        1  Unknown      0\n",
       "2 1900-07-14        USA   Fishing        1  Unknown      1\n",
       "3 1900-07-31    Croatia  Swimming        1  Unknown      1\n",
       "4 1900-08-21        USA  Swimming        1  Unknown      0"
      ]
     },
     "execution_count": 12,
     "metadata": {},
     "output_type": "execute_result"
    }
   ],
   "source": [
    "df.head()"
   ]
  },
  {
   "cell_type": "markdown",
   "metadata": {},
   "source": [
    "Change the 'Unknown' value under the 'age' series to the mean value of the column"
   ]
  },
  {
   "cell_type": "markdown",
   "metadata": {},
   "source": [
    "First, let's change all the 'unknown' values to null (NaN) values"
   ]
  },
  {
   "cell_type": "code",
   "execution_count": 13,
   "metadata": {},
   "outputs": [],
   "source": [
    "df.replace('Unknown', np.nan, inplace=True)"
   ]
  },
  {
   "cell_type": "markdown",
   "metadata": {},
   "source": [
    "Doing this changes the data type of this column to float, as there are no longer any strings in this column"
   ]
  },
  {
   "cell_type": "markdown",
   "metadata": {},
   "source": [
    "Next, let's find the mean"
   ]
  },
  {
   "cell_type": "code",
   "execution_count": 14,
   "metadata": {},
   "outputs": [
    {
     "data": {
      "text/plain": [
       "27.29417444480206"
      ]
     },
     "execution_count": 14,
     "metadata": {},
     "output_type": "execute_result"
    }
   ],
   "source": [
    "df.age.mean()"
   ]
  },
  {
   "cell_type": "markdown",
   "metadata": {},
   "source": [
    "Let's round it up to 28 and replace all the null (NaN) values with 28 so we can use this column effeciently later"
   ]
  },
  {
   "cell_type": "code",
   "execution_count": 15,
   "metadata": {},
   "outputs": [],
   "source": [
    "df[['age']] = df[['age']].fillna(value=28)"
   ]
  },
  {
   "cell_type": "markdown",
   "metadata": {},
   "source": [
    "Finally, let's change the data type of the column to integers instead of floats"
   ]
  },
  {
   "cell_type": "code",
   "execution_count": 16,
   "metadata": {},
   "outputs": [],
   "source": [
    "df.age = df.age.astype(int)"
   ]
  },
  {
   "cell_type": "markdown",
   "metadata": {},
   "source": [
    "Check changes"
   ]
  },
  {
   "cell_type": "code",
   "execution_count": 17,
   "metadata": {
    "scrolled": true
   },
   "outputs": [
    {
     "data": {
      "text/html": [
       "<div>\n",
       "<style scoped>\n",
       "    .dataframe tbody tr th:only-of-type {\n",
       "        vertical-align: middle;\n",
       "    }\n",
       "\n",
       "    .dataframe tbody tr th {\n",
       "        vertical-align: top;\n",
       "    }\n",
       "\n",
       "    .dataframe thead th {\n",
       "        text-align: right;\n",
       "    }\n",
       "</style>\n",
       "<table border=\"1\" class=\"dataframe\">\n",
       "  <thead>\n",
       "    <tr style=\"text-align: right;\">\n",
       "      <th></th>\n",
       "      <th>date</th>\n",
       "      <th>country</th>\n",
       "      <th>activity</th>\n",
       "      <th>is_male</th>\n",
       "      <th>age</th>\n",
       "      <th>fatal</th>\n",
       "    </tr>\n",
       "  </thead>\n",
       "  <tbody>\n",
       "    <tr>\n",
       "      <th>0</th>\n",
       "      <td>1900-01-28</td>\n",
       "      <td>Australia</td>\n",
       "      <td>Fishing</td>\n",
       "      <td>1</td>\n",
       "      <td>28</td>\n",
       "      <td>0</td>\n",
       "    </tr>\n",
       "    <tr>\n",
       "      <th>1</th>\n",
       "      <td>1900-07-01</td>\n",
       "      <td>USA</td>\n",
       "      <td>Fishing</td>\n",
       "      <td>1</td>\n",
       "      <td>28</td>\n",
       "      <td>0</td>\n",
       "    </tr>\n",
       "    <tr>\n",
       "      <th>2</th>\n",
       "      <td>1900-07-14</td>\n",
       "      <td>USA</td>\n",
       "      <td>Fishing</td>\n",
       "      <td>1</td>\n",
       "      <td>28</td>\n",
       "      <td>1</td>\n",
       "    </tr>\n",
       "    <tr>\n",
       "      <th>3</th>\n",
       "      <td>1900-07-31</td>\n",
       "      <td>Croatia</td>\n",
       "      <td>Swimming</td>\n",
       "      <td>1</td>\n",
       "      <td>28</td>\n",
       "      <td>1</td>\n",
       "    </tr>\n",
       "    <tr>\n",
       "      <th>4</th>\n",
       "      <td>1900-08-21</td>\n",
       "      <td>USA</td>\n",
       "      <td>Swimming</td>\n",
       "      <td>1</td>\n",
       "      <td>28</td>\n",
       "      <td>0</td>\n",
       "    </tr>\n",
       "    <tr>\n",
       "      <th>5</th>\n",
       "      <td>1900-09-05</td>\n",
       "      <td>USA</td>\n",
       "      <td>Swimming</td>\n",
       "      <td>1</td>\n",
       "      <td>28</td>\n",
       "      <td>0</td>\n",
       "    </tr>\n",
       "    <tr>\n",
       "      <th>6</th>\n",
       "      <td>1900-09-13</td>\n",
       "      <td>USA</td>\n",
       "      <td>Diving</td>\n",
       "      <td>1</td>\n",
       "      <td>28</td>\n",
       "      <td>0</td>\n",
       "    </tr>\n",
       "    <tr>\n",
       "      <th>7</th>\n",
       "      <td>1900-09-15</td>\n",
       "      <td>Australia</td>\n",
       "      <td>Swimming</td>\n",
       "      <td>1</td>\n",
       "      <td>28</td>\n",
       "      <td>0</td>\n",
       "    </tr>\n",
       "    <tr>\n",
       "      <th>8</th>\n",
       "      <td>1900-10-27</td>\n",
       "      <td>South Africa</td>\n",
       "      <td>Swimming</td>\n",
       "      <td>1</td>\n",
       "      <td>28</td>\n",
       "      <td>1</td>\n",
       "    </tr>\n",
       "    <tr>\n",
       "      <th>9</th>\n",
       "      <td>1900-11-14</td>\n",
       "      <td>South Africa</td>\n",
       "      <td>Swimming</td>\n",
       "      <td>1</td>\n",
       "      <td>30</td>\n",
       "      <td>1</td>\n",
       "    </tr>\n",
       "  </tbody>\n",
       "</table>\n",
       "</div>"
      ],
      "text/plain": [
       "        date       country  activity  is_male  age  fatal\n",
       "0 1900-01-28     Australia   Fishing        1   28      0\n",
       "1 1900-07-01           USA   Fishing        1   28      0\n",
       "2 1900-07-14           USA   Fishing        1   28      1\n",
       "3 1900-07-31       Croatia  Swimming        1   28      1\n",
       "4 1900-08-21           USA  Swimming        1   28      0\n",
       "5 1900-09-05           USA  Swimming        1   28      0\n",
       "6 1900-09-13           USA    Diving        1   28      0\n",
       "7 1900-09-15     Australia  Swimming        1   28      0\n",
       "8 1900-10-27  South Africa  Swimming        1   28      1\n",
       "9 1900-11-14  South Africa  Swimming        1   30      1"
      ]
     },
     "execution_count": 17,
     "metadata": {},
     "output_type": "execute_result"
    }
   ],
   "source": [
    "df.head(10)"
   ]
  },
  {
   "cell_type": "code",
   "execution_count": 18,
   "metadata": {},
   "outputs": [
    {
     "name": "stdout",
     "output_type": "stream",
     "text": [
      "<class 'pandas.core.frame.DataFrame'>\n",
      "RangeIndex: 5292 entries, 0 to 5291\n",
      "Data columns (total 6 columns):\n",
      "date        5292 non-null datetime64[ns]\n",
      "country     5270 non-null object\n",
      "activity    5292 non-null object\n",
      "is_male     5292 non-null int64\n",
      "age         5292 non-null int64\n",
      "fatal       5292 non-null int64\n",
      "dtypes: datetime64[ns](1), int64(3), object(2)\n",
      "memory usage: 248.1+ KB\n"
     ]
    }
   ],
   "source": [
    "df.info()"
   ]
  },
  {
   "cell_type": "markdown",
   "metadata": {},
   "source": [
    "# ---\n",
    "<h3>Phase 3: Wrangling the 'activity' column</h3>"
   ]
  },
  {
   "cell_type": "markdown",
   "metadata": {},
   "source": [
    "Explaining my process:\n",
    "\n",
    "Even though there are 1291 unique values in this column, a lot of them refer to the same activity, so my goal is to group all these similar activities together and hopefully narrow down the unique values to a small number which can be used as an indication or be used on modeling as a feature that affects the dependant variable.\n",
    "\n",
    "The way I did this is by simultaneously examining the data on this notebook and the excel notebook as well, and try to see the common factors in these different values and try to group them up.\n",
    "\n",
    "In excel, I filtered the raw data to find all of the values that were similar, then overwrote their values with a unified value.\n",
    "\n",
    "This was a process that took many hours, but I felt that it is necessary as the activity - in my opinion - is one of the most, if not the most important factors in the result of this study.\n",
    "\n",
    "My rationale was to group the values by the general activity taken by the individuals involed, the following is a summary which might help the reader understand my reasoning for the grouping that I've done:\n",
    "\n",
    "    - Swimming: this grouped up any action where the individual involed was trying to swim, float, play, stand, walk, or crouch in the water, as all these actions resembled 'wanting to be in the water' so I figured they should be grouped together.\n",
    "    - Diving: any activiity where the individual was fully submerged in the water, this includes scuba diving or snorkling.\n",
    "    - Surfing: any action which related to being on a floating device that left a part of the body exposed in the water, such as surfing, kite surfing, paddleboarding, etc..\n",
    "    - Boat: any activities on boats where there was no partial exposure of the indiividual's body in the water, this includes small or big boats, cruises, jetskis, etc..\n",
    "    - Fishing: any action taken to perform fishing activities whether it's on a boat, shrimping, crab fishing, collecting sea creatures by hand, etc..\n",
    "    - Accident: this grouped up a large number of unique values, my rationale for this was to group up any activity where the individual had NO intent of being in the water, but ended up in the water due to unforseen circumstances, this includes boat capsizing, sunken boat, falling off raft, job related, etc..\n",
    "    \n",
    "After the 'Activity' column was cleaned up and wrangled in the raw data file, I ran the whole jupyter notebook again importing the newly edited file which I have included in this repository as well so that the data frame will take in the new updated values."
   ]
  },
  {
   "cell_type": "markdown",
   "metadata": {},
   "source": [
    "# ---"
   ]
  },
  {
   "cell_type": "markdown",
   "metadata": {},
   "source": [
    "Next on the agenda is to try and quantify the activity field, and I decided to group the activities into 3 categories where each category will have a value of 1 or 0 being 1 where that category is present in that row:\n",
    "\n",
    "- submerged: this includes swimming, diving, and accident.\n",
    "    - reason: all those 3 cases result in victims being fully submerged in water and very vurnarable.\n",
    "    \n",
    "- mid_submerged: this includes surfing.\n",
    "    - reason: surfing is unique as the individual is only partially submerged and might resemble a turtle or a fish from within deep water.\n",
    "\n",
    "- not_submerged: this includes boat, fishing.\n",
    "    - reason: both these activities usually involve individuals not submerged in water with full use of their legs."
   ]
  },
  {
   "cell_type": "markdown",
   "metadata": {},
   "source": [
    "# ---\n",
    "First, let's make a new series where 'Swimming', 'Diving', & 'Accident' are taken in, then convert those 3 values to 1, otherwise convert the rest to 0"
   ]
  },
  {
   "cell_type": "code",
   "execution_count": 19,
   "metadata": {},
   "outputs": [],
   "source": [
    "df['submerged'] = df.activity.loc[(df.activity=='Swimming') | (df.activity=='Diving') | (df.activity=='Accident')]"
   ]
  },
  {
   "cell_type": "code",
   "execution_count": 20,
   "metadata": {},
   "outputs": [],
   "source": [
    "df.submerged = df.submerged.map({'Swimming':1,'Diving':1, 'Accident':1, np.nan:0})"
   ]
  },
  {
   "cell_type": "markdown",
   "metadata": {},
   "source": [
    "Repeat the process for the mid_submerged group"
   ]
  },
  {
   "cell_type": "code",
   "execution_count": 21,
   "metadata": {},
   "outputs": [],
   "source": [
    "df['mid_submerged'] = df.activity.loc[df.activity=='Surfing']"
   ]
  },
  {
   "cell_type": "code",
   "execution_count": 22,
   "metadata": {},
   "outputs": [],
   "source": [
    "df.mid_submerged = df.mid_submerged.map({'Surfing':1, np.nan:0})"
   ]
  },
  {
   "cell_type": "markdown",
   "metadata": {},
   "source": [
    "Repeat one last time for the not_submerged group"
   ]
  },
  {
   "cell_type": "code",
   "execution_count": 23,
   "metadata": {},
   "outputs": [],
   "source": [
    "df['not_submerged'] = df.activity.loc[(df.activity=='Boat') | (df.activity=='Fishing')]"
   ]
  },
  {
   "cell_type": "code",
   "execution_count": 24,
   "metadata": {},
   "outputs": [],
   "source": [
    "df.not_submerged = df.not_submerged.map({'Boat':1, 'Fishing':1, np.nan:0})"
   ]
  },
  {
   "cell_type": "markdown",
   "metadata": {},
   "source": [
    "<h3>As we can see below, the 3 groups are now put into 3 different columns, only one of them will have a value of 1 in a single row, and there should not be any row where all 3 of these columns is 0</h3>"
   ]
  },
  {
   "cell_type": "code",
   "execution_count": 25,
   "metadata": {},
   "outputs": [
    {
     "data": {
      "text/html": [
       "<div>\n",
       "<style scoped>\n",
       "    .dataframe tbody tr th:only-of-type {\n",
       "        vertical-align: middle;\n",
       "    }\n",
       "\n",
       "    .dataframe tbody tr th {\n",
       "        vertical-align: top;\n",
       "    }\n",
       "\n",
       "    .dataframe thead th {\n",
       "        text-align: right;\n",
       "    }\n",
       "</style>\n",
       "<table border=\"1\" class=\"dataframe\">\n",
       "  <thead>\n",
       "    <tr style=\"text-align: right;\">\n",
       "      <th></th>\n",
       "      <th>date</th>\n",
       "      <th>country</th>\n",
       "      <th>activity</th>\n",
       "      <th>is_male</th>\n",
       "      <th>age</th>\n",
       "      <th>fatal</th>\n",
       "      <th>submerged</th>\n",
       "      <th>mid_submerged</th>\n",
       "      <th>not_submerged</th>\n",
       "    </tr>\n",
       "  </thead>\n",
       "  <tbody>\n",
       "    <tr>\n",
       "      <th>5282</th>\n",
       "      <td>2016-09-05</td>\n",
       "      <td>Australia</td>\n",
       "      <td>Surfing</td>\n",
       "      <td>1</td>\n",
       "      <td>28</td>\n",
       "      <td>0</td>\n",
       "      <td>0</td>\n",
       "      <td>1</td>\n",
       "      <td>0</td>\n",
       "    </tr>\n",
       "    <tr>\n",
       "      <th>5283</th>\n",
       "      <td>2016-09-06</td>\n",
       "      <td>New Caledonia</td>\n",
       "      <td>Surfing</td>\n",
       "      <td>1</td>\n",
       "      <td>50</td>\n",
       "      <td>1</td>\n",
       "      <td>0</td>\n",
       "      <td>1</td>\n",
       "      <td>0</td>\n",
       "    </tr>\n",
       "    <tr>\n",
       "      <th>5284</th>\n",
       "      <td>2016-09-07</td>\n",
       "      <td>USA</td>\n",
       "      <td>Swimming</td>\n",
       "      <td>0</td>\n",
       "      <td>51</td>\n",
       "      <td>0</td>\n",
       "      <td>1</td>\n",
       "      <td>0</td>\n",
       "      <td>0</td>\n",
       "    </tr>\n",
       "    <tr>\n",
       "      <th>5285</th>\n",
       "      <td>2016-09-11</td>\n",
       "      <td>USA</td>\n",
       "      <td>Fishing</td>\n",
       "      <td>1</td>\n",
       "      <td>28</td>\n",
       "      <td>0</td>\n",
       "      <td>0</td>\n",
       "      <td>0</td>\n",
       "      <td>1</td>\n",
       "    </tr>\n",
       "    <tr>\n",
       "      <th>5286</th>\n",
       "      <td>2016-09-15</td>\n",
       "      <td>Australia</td>\n",
       "      <td>Fishing</td>\n",
       "      <td>1</td>\n",
       "      <td>28</td>\n",
       "      <td>0</td>\n",
       "      <td>0</td>\n",
       "      <td>0</td>\n",
       "      <td>1</td>\n",
       "    </tr>\n",
       "    <tr>\n",
       "      <th>5287</th>\n",
       "      <td>2016-09-16</td>\n",
       "      <td>Australia</td>\n",
       "      <td>Surfing</td>\n",
       "      <td>1</td>\n",
       "      <td>28</td>\n",
       "      <td>0</td>\n",
       "      <td>0</td>\n",
       "      <td>1</td>\n",
       "      <td>0</td>\n",
       "    </tr>\n",
       "    <tr>\n",
       "      <th>5288</th>\n",
       "      <td>2016-09-17</td>\n",
       "      <td>Australia</td>\n",
       "      <td>Surfing</td>\n",
       "      <td>1</td>\n",
       "      <td>28</td>\n",
       "      <td>0</td>\n",
       "      <td>0</td>\n",
       "      <td>1</td>\n",
       "      <td>0</td>\n",
       "    </tr>\n",
       "    <tr>\n",
       "      <th>5289</th>\n",
       "      <td>2016-09-18</td>\n",
       "      <td>USA</td>\n",
       "      <td>Surfing</td>\n",
       "      <td>1</td>\n",
       "      <td>16</td>\n",
       "      <td>0</td>\n",
       "      <td>0</td>\n",
       "      <td>1</td>\n",
       "      <td>0</td>\n",
       "    </tr>\n",
       "    <tr>\n",
       "      <th>5290</th>\n",
       "      <td>2016-09-18</td>\n",
       "      <td>USA</td>\n",
       "      <td>Surfing</td>\n",
       "      <td>1</td>\n",
       "      <td>36</td>\n",
       "      <td>0</td>\n",
       "      <td>0</td>\n",
       "      <td>1</td>\n",
       "      <td>0</td>\n",
       "    </tr>\n",
       "    <tr>\n",
       "      <th>5291</th>\n",
       "      <td>2016-09-18</td>\n",
       "      <td>USA</td>\n",
       "      <td>Surfing</td>\n",
       "      <td>1</td>\n",
       "      <td>43</td>\n",
       "      <td>0</td>\n",
       "      <td>0</td>\n",
       "      <td>1</td>\n",
       "      <td>0</td>\n",
       "    </tr>\n",
       "  </tbody>\n",
       "</table>\n",
       "</div>"
      ],
      "text/plain": [
       "           date        country  activity  is_male  age  fatal  submerged  \\\n",
       "5282 2016-09-05      Australia   Surfing        1   28      0          0   \n",
       "5283 2016-09-06  New Caledonia   Surfing        1   50      1          0   \n",
       "5284 2016-09-07            USA  Swimming        0   51      0          1   \n",
       "5285 2016-09-11            USA   Fishing        1   28      0          0   \n",
       "5286 2016-09-15      Australia   Fishing        1   28      0          0   \n",
       "5287 2016-09-16      Australia   Surfing        1   28      0          0   \n",
       "5288 2016-09-17      Australia   Surfing        1   28      0          0   \n",
       "5289 2016-09-18            USA   Surfing        1   16      0          0   \n",
       "5290 2016-09-18            USA   Surfing        1   36      0          0   \n",
       "5291 2016-09-18            USA   Surfing        1   43      0          0   \n",
       "\n",
       "      mid_submerged  not_submerged  \n",
       "5282              1              0  \n",
       "5283              1              0  \n",
       "5284              0              0  \n",
       "5285              0              1  \n",
       "5286              0              1  \n",
       "5287              1              0  \n",
       "5288              1              0  \n",
       "5289              1              0  \n",
       "5290              1              0  \n",
       "5291              1              0  "
      ]
     },
     "execution_count": 25,
     "metadata": {},
     "output_type": "execute_result"
    }
   ],
   "source": [
    "df.tail(10)"
   ]
  },
  {
   "cell_type": "markdown",
   "metadata": {},
   "source": [
    "Let's reoder the columns to make it cleaner and better to look at"
   ]
  },
  {
   "cell_type": "code",
   "execution_count": 26,
   "metadata": {},
   "outputs": [],
   "source": [
    "cols = ['date','country','activity','submerged','mid_submerged','not_submerged','is_male','age','fatal']\n",
    "df = df[cols]"
   ]
  },
  {
   "cell_type": "markdown",
   "metadata": {},
   "source": [
    "Check changes"
   ]
  },
  {
   "cell_type": "code",
   "execution_count": 27,
   "metadata": {},
   "outputs": [
    {
     "data": {
      "text/html": [
       "<div>\n",
       "<style scoped>\n",
       "    .dataframe tbody tr th:only-of-type {\n",
       "        vertical-align: middle;\n",
       "    }\n",
       "\n",
       "    .dataframe tbody tr th {\n",
       "        vertical-align: top;\n",
       "    }\n",
       "\n",
       "    .dataframe thead th {\n",
       "        text-align: right;\n",
       "    }\n",
       "</style>\n",
       "<table border=\"1\" class=\"dataframe\">\n",
       "  <thead>\n",
       "    <tr style=\"text-align: right;\">\n",
       "      <th></th>\n",
       "      <th>date</th>\n",
       "      <th>country</th>\n",
       "      <th>activity</th>\n",
       "      <th>submerged</th>\n",
       "      <th>mid_submerged</th>\n",
       "      <th>not_submerged</th>\n",
       "      <th>is_male</th>\n",
       "      <th>age</th>\n",
       "      <th>fatal</th>\n",
       "    </tr>\n",
       "  </thead>\n",
       "  <tbody>\n",
       "    <tr>\n",
       "      <th>0</th>\n",
       "      <td>1900-01-28</td>\n",
       "      <td>Australia</td>\n",
       "      <td>Fishing</td>\n",
       "      <td>0</td>\n",
       "      <td>0</td>\n",
       "      <td>1</td>\n",
       "      <td>1</td>\n",
       "      <td>28</td>\n",
       "      <td>0</td>\n",
       "    </tr>\n",
       "    <tr>\n",
       "      <th>1</th>\n",
       "      <td>1900-07-01</td>\n",
       "      <td>USA</td>\n",
       "      <td>Fishing</td>\n",
       "      <td>0</td>\n",
       "      <td>0</td>\n",
       "      <td>1</td>\n",
       "      <td>1</td>\n",
       "      <td>28</td>\n",
       "      <td>0</td>\n",
       "    </tr>\n",
       "    <tr>\n",
       "      <th>2</th>\n",
       "      <td>1900-07-14</td>\n",
       "      <td>USA</td>\n",
       "      <td>Fishing</td>\n",
       "      <td>0</td>\n",
       "      <td>0</td>\n",
       "      <td>1</td>\n",
       "      <td>1</td>\n",
       "      <td>28</td>\n",
       "      <td>1</td>\n",
       "    </tr>\n",
       "    <tr>\n",
       "      <th>3</th>\n",
       "      <td>1900-07-31</td>\n",
       "      <td>Croatia</td>\n",
       "      <td>Swimming</td>\n",
       "      <td>1</td>\n",
       "      <td>0</td>\n",
       "      <td>0</td>\n",
       "      <td>1</td>\n",
       "      <td>28</td>\n",
       "      <td>1</td>\n",
       "    </tr>\n",
       "    <tr>\n",
       "      <th>4</th>\n",
       "      <td>1900-08-21</td>\n",
       "      <td>USA</td>\n",
       "      <td>Swimming</td>\n",
       "      <td>1</td>\n",
       "      <td>0</td>\n",
       "      <td>0</td>\n",
       "      <td>1</td>\n",
       "      <td>28</td>\n",
       "      <td>0</td>\n",
       "    </tr>\n",
       "  </tbody>\n",
       "</table>\n",
       "</div>"
      ],
      "text/plain": [
       "        date    country  activity  submerged  mid_submerged  not_submerged  \\\n",
       "0 1900-01-28  Australia   Fishing          0              0              1   \n",
       "1 1900-07-01        USA   Fishing          0              0              1   \n",
       "2 1900-07-14        USA   Fishing          0              0              1   \n",
       "3 1900-07-31    Croatia  Swimming          1              0              0   \n",
       "4 1900-08-21        USA  Swimming          1              0              0   \n",
       "\n",
       "   is_male  age  fatal  \n",
       "0        1   28      0  \n",
       "1        1   28      0  \n",
       "2        1   28      1  \n",
       "3        1   28      1  \n",
       "4        1   28      0  "
      ]
     },
     "execution_count": 27,
     "metadata": {},
     "output_type": "execute_result"
    }
   ],
   "source": [
    "df.head()"
   ]
  },
  {
   "cell_type": "code",
   "execution_count": 28,
   "metadata": {},
   "outputs": [
    {
     "name": "stdout",
     "output_type": "stream",
     "text": [
      "<class 'pandas.core.frame.DataFrame'>\n",
      "RangeIndex: 5292 entries, 0 to 5291\n",
      "Data columns (total 9 columns):\n",
      "date             5292 non-null datetime64[ns]\n",
      "country          5270 non-null object\n",
      "activity         5292 non-null object\n",
      "submerged        5292 non-null int64\n",
      "mid_submerged    5292 non-null int64\n",
      "not_submerged    5292 non-null int64\n",
      "is_male          5292 non-null int64\n",
      "age              5292 non-null int64\n",
      "fatal            5292 non-null int64\n",
      "dtypes: datetime64[ns](1), int64(6), object(2)\n",
      "memory usage: 372.2+ KB\n"
     ]
    }
   ],
   "source": [
    "df.info()"
   ]
  },
  {
   "cell_type": "markdown",
   "metadata": {},
   "source": [
    "<h3>Let's handle the missing and null values in 'Country' and 'Area' columns</h3>"
   ]
  },
  {
   "cell_type": "markdown",
   "metadata": {},
   "source": [
    "* For country, I chose to replace the null values with the mode of the data series to keep the results as stable as possible"
   ]
  },
  {
   "cell_type": "code",
   "execution_count": 29,
   "metadata": {},
   "outputs": [
    {
     "data": {
      "text/plain": [
       "country\n",
       "Brazil                99\n",
       "Papua New Guinea     128\n",
       "South Africa         531\n",
       "Australia           1126\n",
       "USA                 1989\n",
       "Name: date, dtype: int64"
      ]
     },
     "execution_count": 29,
     "metadata": {},
     "output_type": "execute_result"
    }
   ],
   "source": [
    "# let's find the mode first\n",
    "df.groupby('country')['date'].count().sort_values().tail()"
   ]
  },
  {
   "cell_type": "markdown",
   "metadata": {},
   "source": [
    "USA is the mode, so we will replace the missing values with it"
   ]
  },
  {
   "cell_type": "code",
   "execution_count": 30,
   "metadata": {},
   "outputs": [],
   "source": [
    "df['country'].fillna(value=\"USA\", inplace=True)"
   ]
  },
  {
   "cell_type": "code",
   "execution_count": 31,
   "metadata": {},
   "outputs": [
    {
     "name": "stdout",
     "output_type": "stream",
     "text": [
      "<class 'pandas.core.frame.DataFrame'>\n",
      "RangeIndex: 5292 entries, 0 to 5291\n",
      "Data columns (total 9 columns):\n",
      "date             5292 non-null datetime64[ns]\n",
      "country          5292 non-null object\n",
      "activity         5292 non-null object\n",
      "submerged        5292 non-null int64\n",
      "mid_submerged    5292 non-null int64\n",
      "not_submerged    5292 non-null int64\n",
      "is_male          5292 non-null int64\n",
      "age              5292 non-null int64\n",
      "fatal            5292 non-null int64\n",
      "dtypes: datetime64[ns](1), int64(6), object(2)\n",
      "memory usage: 372.2+ KB\n"
     ]
    }
   ],
   "source": [
    "df.info()"
   ]
  },
  {
   "cell_type": "markdown",
   "metadata": {},
   "source": [
    "# ---\n",
    "# Our data looks ready, let's move on to visualization and answering the first three questions in our project."
   ]
  },
  {
   "cell_type": "markdown",
   "metadata": {},
   "source": [
    "<h3>1- How does the number of attacks change when looked at against the variables related to the victims of the attacks?</h3>\n",
    "\n",
    "<h3>2- Which activities have a higher chance of exposing us to shark attacks?</h3>\n",
    "\n",
    "<h3>3- Where do most shark attacks occur? and is this data consistent throughout the year or does it change seasonaly?</h3>"
   ]
  },
  {
   "cell_type": "markdown",
   "metadata": {},
   "source": [
    "visualize the number of shark attacks over time"
   ]
  },
  {
   "cell_type": "code",
   "execution_count": 32,
   "metadata": {},
   "outputs": [
    {
     "data": {
      "text/plain": [
       "<matplotlib.axes._subplots.AxesSubplot at 0x1a172724e0>"
      ]
     },
     "execution_count": 32,
     "metadata": {},
     "output_type": "execute_result"
    },
    {
     "data": {
      "image/png": "[encoded data removed]",
      "text/plain": [
       "<Figure size 1152x432 with 1 Axes>"
      ]
     },
     "metadata": {
      "needs_background": "light"
     },
     "output_type": "display_data"
    }
   ],
   "source": [
    "df.groupby(df.date.dt.year)['country'].count().plot(figsize=(16,6))"
   ]
  },
  {
   "cell_type": "markdown",
   "metadata": {},
   "source": [
    "visualize the countries with the highest number of shark attacks over the dataset period (anything not shown in this figure has a count of 10 or less)"
   ]
  },
  {
   "cell_type": "code",
   "execution_count": 33,
   "metadata": {},
   "outputs": [
    {
     "data": {
      "text/plain": [
       "<matplotlib.axes._subplots.AxesSubplot at 0x1a1773d860>"
      ]
     },
     "execution_count": 33,
     "metadata": {},
     "output_type": "execute_result"
    },
    {
     "data": {
      "image/png": "[encoded data removed]",
      "text/plain": [
       "<Figure size 1152x432 with 1 Axes>"
      ]
     },
     "metadata": {
      "needs_background": "light"
     },
     "output_type": "display_data"
    }
   ],
   "source": [
    "(df.groupby('country')['date'].count()).sort_values(ascending=False).head(39).plot(kind=\"bar\", figsize=(16,6))"
   ]
  },
  {
   "cell_type": "code",
   "execution_count": 34,
   "metadata": {},
   "outputs": [
    {
     "data": {
      "text/html": [
       "        <script type=\"text/javascript\">\n",
       "        window.PlotlyConfig = {MathJaxConfig: 'local'};\n",
       "        if (window.MathJax) {MathJax.Hub.Config({SVG: {font: \"STIX-Web\"}});}\n",
       "        if (typeof require !== 'undefined') {\n",
       "        require.undef(\"plotly\");\n",
       "        requirejs.config({\n",
       "            paths: {\n",
       "                'plotly': ['https://cdn.plot.ly/plotly-latest.min']\n",
       "            }\n",
       "        });\n",
       "        require(['plotly'], function(Plotly) {\n",
       "            window._Plotly = Plotly;\n",
       "        });\n",
       "        }\n",
       "        </script>\n",
       "        "
      ]
     },
     "metadata": {},
     "output_type": "display_data"
    }
   ],
   "source": [
    "# import all necessary libraries to view the data on a world map\n",
    "import plotly as py\n",
    "import plotly.graph_objs as go\n",
    "from plotly.offline import download_plotlyjs, init_notebook_mode, plot, iplot\n",
    "init_notebook_mode(connected=True)\n",
    "# make a new data frame with the information we need\n",
    "map_df = df.groupby('country')['date'].count()\n",
    "new_df = pd.DataFrame(map_df)\n",
    "# I then exported this data frame to excel where I added the correct country code so plotly can read the country codes\n",
    "new_df.to_excel('new_df_file.xlsx')\n",
    "# brought back the adjusted file with the country codes (this has been added to the repository as well)\n",
    "df_map = pd.read_excel('adjusted_new_df.xlsx')"
   ]
  },
  {
   "cell_type": "code",
   "execution_count": 35,
   "metadata": {},
   "outputs": [
    {
     "data": {
      "text/html": [
       "<div>\n",
       "<style scoped>\n",
       "    .dataframe tbody tr th:only-of-type {\n",
       "        vertical-align: middle;\n",
       "    }\n",
       "\n",
       "    .dataframe tbody tr th {\n",
       "        vertical-align: top;\n",
       "    }\n",
       "\n",
       "    .dataframe thead th {\n",
       "        text-align: right;\n",
       "    }\n",
       "</style>\n",
       "<table border=\"1\" class=\"dataframe\">\n",
       "  <thead>\n",
       "    <tr style=\"text-align: right;\">\n",
       "      <th></th>\n",
       "      <th>country</th>\n",
       "      <th>country2</th>\n",
       "    </tr>\n",
       "  </thead>\n",
       "  <tbody>\n",
       "    <tr>\n",
       "      <th>0</th>\n",
       "      <td>ABW</td>\n",
       "      <td>1</td>\n",
       "    </tr>\n",
       "    <tr>\n",
       "      <th>1</th>\n",
       "      <td>AFG</td>\n",
       "      <td>0</td>\n",
       "    </tr>\n",
       "    <tr>\n",
       "      <th>2</th>\n",
       "      <td>AGO</td>\n",
       "      <td>0</td>\n",
       "    </tr>\n",
       "    <tr>\n",
       "      <th>3</th>\n",
       "      <td>AIA</td>\n",
       "      <td>0</td>\n",
       "    </tr>\n",
       "    <tr>\n",
       "      <th>4</th>\n",
       "      <td>ALB</td>\n",
       "      <td>0</td>\n",
       "    </tr>\n",
       "  </tbody>\n",
       "</table>\n",
       "</div>"
      ],
      "text/plain": [
       "  country  country2\n",
       "0     ABW         1\n",
       "1     AFG         0\n",
       "2     AGO         0\n",
       "3     AIA         0\n",
       "4     ALB         0"
      ]
     },
     "execution_count": 35,
     "metadata": {},
     "output_type": "execute_result"
    }
   ],
   "source": [
    "# check changes\n",
    "df_map.head()"
   ]
  },
  {
   "cell_type": "markdown",
   "metadata": {},
   "source": [
    "Below is an interactive map showing the data (darker color = higher number of shark attacks), info shows on hover."
   ]
  },
  {
   "cell_type": "code",
   "execution_count": 36,
   "metadata": {},
   "outputs": [
    {
     "data": {
      "application/vnd.plotly.v1+json": {
       "config": {
        "plotlyServerURL": "https://plot.ly"
       },
       "data": [
        {
         "autocolorscale": false,
         "colorbar": {
          "tickprefix": "",
          "title": {
           "text": "Number of shark attacks recorded"
          }
         },
         "colorscale": [
          [
           0,
           "rgb(255,245,240)"
          ],
          [
           0.125,
           "rgb(254,224,210)"
          ],
          [
           0.25,
           "rgb(252,187,161)"
          ],
          [
           0.375,
           "rgb(252,146,114)"
          ],
          [
           0.5,
           "rgb(251,106,74)"
          ],
          [
           0.625,
           "rgb(239,59,44)"
          ],
          [
           0.75,
           "rgb(203,24,29)"
          ],
          [
           0.875,
           "rgb(165,15,21)"
          ],
          [
           1,
           "rgb(103,0,13)"
          ]
         ],
         "locations": [
          "ABW",
          "AFG",
          "AGO",
          "AIA",
          "ALB",
          "AND",
          "ARE",
          "ARG",
          "ARM",
          "ASM",
          "ATG",
          "AUS",
          "AUT",
          "AZE",
          "BDI",
          "BEL",
          "BEN",
          "BFA",
          "BGD",
          "BGR",
          "BHM",
          "BHR",
          "BIH",
          "BLR",
          "BLZ",
          "BMU",
          "BOL",
          "BRA",
          "BRB",
          "BRN",
          "BTN",
          "BWA",
          "CAF",
          "CAN",
          "CHE",
          "CHL",
          "CHN",
          "CIV",
          "CMR",
          "COD",
          "COG",
          "COK",
          "COL",
          "COM",
          "CPV",
          "CRI",
          "CUB",
          "CUW",
          "CYM",
          "CYP",
          "CZE",
          "DEU",
          "DJI",
          "DMA",
          "DNK",
          "DOM",
          "DZA",
          "ECU",
          "EGY",
          "ERI",
          "ESP",
          "EST",
          "ETH",
          "FIN",
          "FJI",
          "FLK",
          "FRA",
          "FRO",
          "FSM",
          "GAB",
          "GBR",
          "GEO",
          "GGY",
          "GHA",
          "GIB",
          "GIN",
          "GMB",
          "GNB",
          "GNQ",
          "GRC",
          "GRD",
          "GRL",
          "GTM",
          "GUM",
          "GUY",
          "HKG",
          "HND",
          "HRV",
          "HTI",
          "HUN",
          "IDN",
          "IMN",
          "IND",
          "IRL",
          "IRN",
          "IRQ",
          "ISL",
          "ISR",
          "ITA",
          "JAM",
          "JEY",
          "JOR",
          "JPN",
          "KAZ",
          "KEN",
          "KGZ",
          "KHM",
          "KIR",
          "KNA",
          "KOR",
          "KSV",
          "KWT",
          "LAO",
          "LBN",
          "LBR",
          "LBY",
          "LCA",
          "LIE",
          "LKA",
          "LSO",
          "LTU",
          "LUX",
          "LVA",
          "MAC",
          "MAF",
          "MAR",
          "MCO",
          "MDA",
          "MDG",
          "MDV",
          "MEX",
          "MHL",
          "MKD",
          "MLI",
          "MLT",
          "MMR",
          "MNE",
          "MNG",
          "MNP",
          "MOZ",
          "MRT",
          "MUS",
          "MWI",
          "MYS",
          "NAM",
          "NCL",
          "NER",
          "NGA",
          "NIC",
          "NIU",
          "NLD",
          "NOR",
          "NPL",
          "NZL",
          "OMN",
          "PAK",
          "PAN",
          "PER",
          "PHL",
          "PLW",
          "PNG",
          "POL",
          "PRI",
          "PRK",
          "PRT",
          "PRY",
          "PYF",
          "QAT",
          "ROU",
          "RUS",
          "RWA",
          "SAU",
          "SDN",
          "SEN",
          "SGP",
          "SLB",
          "SLE",
          "SLV",
          "SMR",
          "SOM",
          "SPM",
          "SRB",
          "SSD",
          "STP",
          "SUR",
          "SVK",
          "SVN",
          "SWE",
          "SWZ",
          "SXM",
          "SYC",
          "SYR",
          "TCD",
          "TGO",
          "THA",
          "TJK",
          "TKM",
          "TLS",
          "TON",
          "TTO",
          "TUN",
          "TUR",
          "TUV",
          "TWN",
          "TZA",
          "UGA",
          "UKR",
          "URY",
          "USA",
          "UZB",
          "VCT",
          "VEN",
          "VGB",
          "VNM",
          "VUT",
          "WBG",
          "WSM",
          "YEM",
          "ZAF",
          "ZMB",
          "ZWE"
         ],
         "marker": {
          "line": {
           "color": "darkgray",
           "width": 0.5
          }
         },
         "reversescale": false,
         "text": [
          "ABW",
          "AFG",
          "AGO",
          "AIA",
          "ALB",
          "AND",
          "ARE",
          "ARG",
          "ARM",
          "ASM",
          "ATG",
          "AUS",
          "AUT",
          "AZE",
          "BDI",
          "BEL",
          "BEN",
          "BFA",
          "BGD",
          "BGR",
          "BHM",
          "BHR",
          "BIH",
          "BLR",
          "BLZ",
          "BMU",
          "BOL",
          "BRA",
          "BRB",
          "BRN",
          "BTN",
          "BWA",
          "CAF",
          "CAN",
          "CHE",
          "CHL",
          "CHN",
          "CIV",
          "CMR",
          "COD",
          "COG",
          "COK",
          "COL",
          "COM",
          "CPV",
          "CRI",
          "CUB",
          "CUW",
          "CYM",
          "CYP",
          "CZE",
          "DEU",
          "DJI",
          "DMA",
          "DNK",
          "DOM",
          "DZA",
          "ECU",
          "EGY",
          "ERI",
          "ESP",
          "EST",
          "ETH",
          "FIN",
          "FJI",
          "FLK",
          "FRA",
          "FRO",
          "FSM",
          "GAB",
          "GBR",
          "GEO",
          "GGY",
          "GHA",
          "GIB",
          "GIN",
          "GMB",
          "GNB",
          "GNQ",
          "GRC",
          "GRD",
          "GRL",
          "GTM",
          "GUM",
          "GUY",
          "HKG",
          "HND",
          "HRV",
          "HTI",
          "HUN",
          "IDN",
          "IMN",
          "IND",
          "IRL",
          "IRN",
          "IRQ",
          "ISL",
          "ISR",
          "ITA",
          "JAM",
          "JEY",
          "JOR",
          "JPN",
          "KAZ",
          "KEN",
          "KGZ",
          "KHM",
          "KIR",
          "KNA",
          "KOR",
          "KSV",
          "KWT",
          "LAO",
          "LBN",
          "LBR",
          "LBY",
          "LCA",
          "LIE",
          "LKA",
          "LSO",
          "LTU",
          "LUX",
          "LVA",
          "MAC",
          "MAF",
          "MAR",
          "MCO",
          "MDA",
          "MDG",
          "MDV",
          "MEX",
          "MHL",
          "MKD",
          "MLI",
          "MLT",
          "MMR",
          "MNE",
          "MNG",
          "MNP",
          "MOZ",
          "MRT",
          "MUS",
          "MWI",
          "MYS",
          "NAM",
          "NCL",
          "NER",
          "NGA",
          "NIC",
          "NIU",
          "NLD",
          "NOR",
          "NPL",
          "NZL",
          "OMN",
          "PAK",
          "PAN",
          "PER",
          "PHL",
          "PLW",
          "PNG",
          "POL",
          "PRI",
          "PRK",
          "PRT",
          "PRY",
          "PYF",
          "QAT",
          "ROU",
          "RUS",
          "RWA",
          "SAU",
          "SDN",
          "SEN",
          "SGP",
          "SLB",
          "SLE",
          "SLV",
          "SMR",
          "SOM",
          "SPM",
          "SRB",
          "SSD",
          "STP",
          "SUR",
          "SVK",
          "SVN",
          "SWE",
          "SWZ",
          "SXM",
          "SYC",
          "SYR",
          "TCD",
          "TGO",
          "THA",
          "TJK",
          "TKM",
          "TLS",
          "TON",
          "TTO",
          "TUN",
          "TUR",
          "TUV",
          "TWN",
          "TZA",
          "UGA",
          "UKR",
          "URY",
          "USA",
          "UZB",
          "VCT",
          "VEN",
          "VGB",
          "VNM",
          "VUT",
          "WBG",
          "WSM",
          "YEM",
          "ZAF",
          "ZMB",
          "ZWE"
         ],
         "type": "choropleth",
         "z": [
          1,
          0,
          0,
          0,
          0,
          0,
          3,
          1,
          0,
          3,
          1,
          1126,
          0,
          0,
          0,
          0,
          0,
          0,
          1,
          0,
          88,
          0,
          0,
          0,
          2,
          15,
          0,
          99,
          2,
          0,
          0,
          0,
          0,
          7,
          0,
          8,
          6,
          0,
          0,
          0,
          0,
          0,
          7,
          0,
          0,
          12,
          31,
          1,
          2,
          1,
          0,
          0,
          0,
          0,
          0,
          7,
          0,
          8,
          31,
          0,
          29,
          0,
          0,
          0,
          49,
          1,
          5,
          0,
          4,
          1,
          32,
          0,
          0,
          0,
          0,
          0,
          0,
          0,
          0,
          11,
          4,
          1,
          1,
          4,
          1,
          22,
          2,
          26,
          3,
          0,
          14,
          0,
          14,
          1,
          26,
          5,
          1,
          7,
          57,
          19,
          0,
          0,
          36,
          0,
          7,
          0,
          0,
          2,
          0,
          7,
          0,
          1,
          0,
          1,
          1,
          2,
          0,
          0,
          4,
          0,
          0,
          0,
          0,
          0,
          2,
          0,
          0,
          0,
          6,
          1,
          71,
          11,
          0,
          0,
          4,
          0,
          3,
          0,
          1,
          40,
          1,
          62,
          0,
          4,
          1,
          47,
          0,
          2,
          6,
          0,
          1,
          1,
          0,
          96,
          0,
          0,
          29,
          0,
          54,
          5,
          137,
          0,
          1,
          0,
          3,
          0,
          19,
          0,
          0,
          4,
          0,
          2,
          3,
          11,
          4,
          26,
          3,
          4,
          0,
          5,
          0,
          0,
          0,
          0,
          0,
          0,
          0,
          1,
          0,
          0,
          7,
          0,
          0,
          0,
          6,
          0,
          5,
          0,
          13,
          3,
          3,
          11,
          1,
          9,
          8,
          0,
          0,
          1,
          2011,
          0,
          0,
          9,
          2,
          11,
          11,
          1,
          7,
          5,
          531,
          0,
          0
         ]
        }
       ],
       "layout": {
        "annotations": [
         {
          "showarrow": false,
          "text": "",
          "x": 0,
          "xref": "paper",
          "y": 0,
          "yref": "paper"
         }
        ],
        "geo": {
         "projection": {
          "type": "equirectangular"
         },
         "showcoastlines": true,
         "showframe": false
        },
        "template": {
         "data": {
          "bar": [
           {
            "error_x": {
             "color": "#2a3f5f"
            },
            "error_y": {
             "color": "#2a3f5f"
            },
            "marker": {
             "line": {
              "color": "#E5ECF6",
              "width": 0.5
             }
            },
            "type": "bar"
           }
          ],
          "barpolar": [
           {
            "marker": {
             "line": {
              "color": "#E5ECF6",
              "width": 0.5
             }
            },
            "type": "barpolar"
           }
          ],
          "carpet": [
           {
            "aaxis": {
             "endlinecolor": "#2a3f5f",
             "gridcolor": "white",
             "linecolor": "white",
             "minorgridcolor": "white",
             "startlinecolor": "#2a3f5f"
            },
            "baxis": {
             "endlinecolor": "#2a3f5f",
             "gridcolor": "white",
             "linecolor": "white",
             "minorgridcolor": "white",
             "startlinecolor": "#2a3f5f"
            },
            "type": "carpet"
           }
          ],
          "choropleth": [
           {
            "colorbar": {
             "outlinewidth": 0,
             "ticks": ""
            },
            "type": "choropleth"
           }
          ],
          "contour": [
           {
            "colorbar": {
             "outlinewidth": 0,
             "ticks": ""
            },
            "colorscale": [
             [
              0,
              "#0d0887"
             ],
             [
              0.1111111111111111,
              "#46039f"
             ],
             [
              0.2222222222222222,
              "#7201a8"
             ],
             [
              0.3333333333333333,
              "#9c179e"
             ],
             [
              0.4444444444444444,
              "#bd3786"
             ],
             [
              0.5555555555555556,
              "#d8576b"
             ],
             [
              0.6666666666666666,
              "#ed7953"
             ],
             [
              0.7777777777777778,
              "#fb9f3a"
             ],
             [
              0.8888888888888888,
              "#fdca26"
             ],
             [
              1,
              "#f0f921"
             ]
            ],
            "type": "contour"
           }
          ],
          "contourcarpet": [
           {
            "colorbar": {
             "outlinewidth": 0,
             "ticks": ""
            },
            "type": "contourcarpet"
           }
          ],
          "heatmap": [
           {
            "colorbar": {
             "outlinewidth": 0,
             "ticks": ""
            },
            "colorscale": [
             [
              0,
              "#0d0887"
             ],
             [
              0.1111111111111111,
              "#46039f"
             ],
             [
              0.2222222222222222,
              "#7201a8"
             ],
             [
              0.3333333333333333,
              "#9c179e"
             ],
             [
              0.4444444444444444,
              "#bd3786"
             ],
             [
              0.5555555555555556,
              "#d8576b"
             ],
             [
              0.6666666666666666,
              "#ed7953"
             ],
             [
              0.7777777777777778,
              "#fb9f3a"
             ],
             [
              0.8888888888888888,
              "#fdca26"
             ],
             [
              1,
              "#f0f921"
             ]
            ],
            "type": "heatmap"
           }
          ],
          "heatmapgl": [
           {
            "colorbar": {
             "outlinewidth": 0,
             "ticks": ""
            },
            "colorscale": [
             [
              0,
              "#0d0887"
             ],
             [
              0.1111111111111111,
              "#46039f"
             ],
             [
              0.2222222222222222,
              "#7201a8"
             ],
             [
              0.3333333333333333,
              "#9c179e"
             ],
             [
              0.4444444444444444,
              "#bd3786"
             ],
             [
              0.5555555555555556,
              "#d8576b"
             ],
             [
              0.6666666666666666,
              "#ed7953"
             ],
             [
              0.7777777777777778,
              "#fb9f3a"
             ],
             [
              0.8888888888888888,
              "#fdca26"
             ],
             [
              1,
              "#f0f921"
             ]
            ],
            "type": "heatmapgl"
           }
          ],
          "histogram": [
           {
            "marker": {
             "colorbar": {
              "outlinewidth": 0,
              "ticks": ""
             }
            },
            "type": "histogram"
           }
          ],
          "histogram2d": [
           {
            "colorbar": {
             "outlinewidth": 0,
             "ticks": ""
            },
            "colorscale": [
             [
              0,
              "#0d0887"
             ],
             [
              0.1111111111111111,
              "#46039f"
             ],
             [
              0.2222222222222222,
              "#7201a8"
             ],
             [
              0.3333333333333333,
              "#9c179e"
             ],
             [
              0.4444444444444444,
              "#bd3786"
             ],
             [
              0.5555555555555556,
              "#d8576b"
             ],
             [
              0.6666666666666666,
              "#ed7953"
             ],
             [
              0.7777777777777778,
              "#fb9f3a"
             ],
             [
              0.8888888888888888,
              "#fdca26"
             ],
             [
              1,
              "#f0f921"
             ]
            ],
            "type": "histogram2d"
           }
          ],
          "histogram2dcontour": [
           {
            "colorbar": {
             "outlinewidth": 0,
             "ticks": ""
            },
            "colorscale": [
             [
              0,
              "#0d0887"
             ],
             [
              0.1111111111111111,
              "#46039f"
             ],
             [
              0.2222222222222222,
              "#7201a8"
             ],
             [
              0.3333333333333333,
              "#9c179e"
             ],
             [
              0.4444444444444444,
              "#bd3786"
             ],
             [
              0.5555555555555556,
              "#d8576b"
             ],
             [
              0.6666666666666666,
              "#ed7953"
             ],
             [
              0.7777777777777778,
              "#fb9f3a"
             ],
             [
              0.8888888888888888,
              "#fdca26"
             ],
             [
              1,
              "#f0f921"
             ]
            ],
            "type": "histogram2dcontour"
           }
          ],
          "mesh3d": [
           {
            "colorbar": {
             "outlinewidth": 0,
             "ticks": ""
            },
            "type": "mesh3d"
           }
          ],
          "parcoords": [
           {
            "line": {
             "colorbar": {
              "outlinewidth": 0,
              "ticks": ""
             }
            },
            "type": "parcoords"
           }
          ],
          "scatter": [
           {
            "marker": {
             "colorbar": {
              "outlinewidth": 0,
              "ticks": ""
             }
            },
            "type": "scatter"
           }
          ],
          "scatter3d": [
           {
            "line": {
             "colorbar": {
              "outlinewidth": 0,
              "ticks": ""
             }
            },
            "marker": {
             "colorbar": {
              "outlinewidth": 0,
              "ticks": ""
             }
            },
            "type": "scatter3d"
           }
          ],
          "scattercarpet": [
           {
            "marker": {
             "colorbar": {
              "outlinewidth": 0,
              "ticks": ""
             }
            },
            "type": "scattercarpet"
           }
          ],
          "scattergeo": [
           {
            "marker": {
             "colorbar": {
              "outlinewidth": 0,
              "ticks": ""
             }
            },
            "type": "scattergeo"
           }
          ],
          "scattergl": [
           {
            "marker": {
             "colorbar": {
              "outlinewidth": 0,
              "ticks": ""
             }
            },
            "type": "scattergl"
           }
          ],
          "scattermapbox": [
           {
            "marker": {
             "colorbar": {
              "outlinewidth": 0,
              "ticks": ""
             }
            },
            "type": "scattermapbox"
           }
          ],
          "scatterpolar": [
           {
            "marker": {
             "colorbar": {
              "outlinewidth": 0,
              "ticks": ""
             }
            },
            "type": "scatterpolar"
           }
          ],
          "scatterpolargl": [
           {
            "marker": {
             "colorbar": {
              "outlinewidth": 0,
              "ticks": ""
             }
            },
            "type": "scatterpolargl"
           }
          ],
          "scatterternary": [
           {
            "marker": {
             "colorbar": {
              "outlinewidth": 0,
              "ticks": ""
             }
            },
            "type": "scatterternary"
           }
          ],
          "surface": [
           {
            "colorbar": {
             "outlinewidth": 0,
             "ticks": ""
            },
            "colorscale": [
             [
              0,
              "#0d0887"
             ],
             [
              0.1111111111111111,
              "#46039f"
             ],
             [
              0.2222222222222222,
              "#7201a8"
             ],
             [
              0.3333333333333333,
              "#9c179e"
             ],
             [
              0.4444444444444444,
              "#bd3786"
             ],
             [
              0.5555555555555556,
              "#d8576b"
             ],
             [
              0.6666666666666666,
              "#ed7953"
             ],
             [
              0.7777777777777778,
              "#fb9f3a"
             ],
             [
              0.8888888888888888,
              "#fdca26"
             ],
             [
              1,
              "#f0f921"
             ]
            ],
            "type": "surface"
           }
          ],
          "table": [
           {
            "cells": {
             "fill": {
              "color": "#EBF0F8"
             },
             "line": {
              "color": "white"
             }
            },
            "header": {
             "fill": {
              "color": "#C8D4E3"
             },
             "line": {
              "color": "white"
             }
            },
            "type": "table"
           }
          ]
         },
         "layout": {
          "annotationdefaults": {
           "arrowcolor": "#2a3f5f",
           "arrowhead": 0,
           "arrowwidth": 1
          },
          "colorscale": {
           "diverging": [
            [
             0,
             "#8e0152"
            ],
            [
             0.1,
             "#c51b7d"
            ],
            [
             0.2,
             "#de77ae"
            ],
            [
             0.3,
             "#f1b6da"
            ],
            [
             0.4,
             "#fde0ef"
            ],
            [
             0.5,
             "#f7f7f7"
            ],
            [
             0.6,
             "#e6f5d0"
            ],
            [
             0.7,
             "#b8e186"
            ],
            [
             0.8,
             "#7fbc41"
            ],
            [
             0.9,
             "#4d9221"
            ],
            [
             1,
             "#276419"
            ]
           ],
           "sequential": [
            [
             0,
             "#0d0887"
            ],
            [
             0.1111111111111111,
             "#46039f"
            ],
            [
             0.2222222222222222,
             "#7201a8"
            ],
            [
             0.3333333333333333,
             "#9c179e"
            ],
            [
             0.4444444444444444,
             "#bd3786"
            ],
            [
             0.5555555555555556,
             "#d8576b"
            ],
            [
             0.6666666666666666,
             "#ed7953"
            ],
            [
             0.7777777777777778,
             "#fb9f3a"
            ],
            [
             0.8888888888888888,
             "#fdca26"
            ],
            [
             1,
             "#f0f921"
            ]
           ],
           "sequentialminus": [
            [
             0,
             "#0d0887"
            ],
            [
             0.1111111111111111,
             "#46039f"
            ],
            [
             0.2222222222222222,
             "#7201a8"
            ],
            [
             0.3333333333333333,
             "#9c179e"
            ],
            [
             0.4444444444444444,
             "#bd3786"
            ],
            [
             0.5555555555555556,
             "#d8576b"
            ],
            [
             0.6666666666666666,
             "#ed7953"
            ],
            [
             0.7777777777777778,
             "#fb9f3a"
            ],
            [
             0.8888888888888888,
             "#fdca26"
            ],
            [
             1,
             "#f0f921"
            ]
           ]
          },
          "colorway": [
           "#636efa",
           "#EF553B",
           "#00cc96",
           "#ab63fa",
           "#FFA15A",
           "#19d3f3",
           "#FF6692",
           "#B6E880",
           "#FF97FF",
           "#FECB52"
          ],
          "font": {
           "color": "#2a3f5f"
          },
          "geo": {
           "bgcolor": "white",
           "lakecolor": "white",
           "landcolor": "#E5ECF6",
           "showlakes": true,
           "showland": true,
           "subunitcolor": "white"
          },
          "hoverlabel": {
           "align": "left"
          },
          "hovermode": "closest",
          "mapbox": {
           "style": "light"
          },
          "paper_bgcolor": "white",
          "plot_bgcolor": "#E5ECF6",
          "polar": {
           "angularaxis": {
            "gridcolor": "white",
            "linecolor": "white",
            "ticks": ""
           },
           "bgcolor": "#E5ECF6",
           "radialaxis": {
            "gridcolor": "white",
            "linecolor": "white",
            "ticks": ""
           }
          },
          "scene": {
           "xaxis": {
            "backgroundcolor": "#E5ECF6",
            "gridcolor": "white",
            "gridwidth": 2,
            "linecolor": "white",
            "showbackground": true,
            "ticks": "",
            "zerolinecolor": "white"
           },
           "yaxis": {
            "backgroundcolor": "#E5ECF6",
            "gridcolor": "white",
            "gridwidth": 2,
            "linecolor": "white",
            "showbackground": true,
            "ticks": "",
            "zerolinecolor": "white"
           },
           "zaxis": {
            "backgroundcolor": "#E5ECF6",
            "gridcolor": "white",
            "gridwidth": 2,
            "linecolor": "white",
            "showbackground": true,
            "ticks": "",
            "zerolinecolor": "white"
           }
          },
          "shapedefaults": {
           "line": {
            "color": "#2a3f5f"
           }
          },
          "ternary": {
           "aaxis": {
            "gridcolor": "white",
            "linecolor": "white",
            "ticks": ""
           },
           "baxis": {
            "gridcolor": "white",
            "linecolor": "white",
            "ticks": ""
           },
           "bgcolor": "#E5ECF6",
           "caxis": {
            "gridcolor": "white",
            "linecolor": "white",
            "ticks": ""
           }
          },
          "title": {
           "x": 0.05
          },
          "xaxis": {
           "automargin": true,
           "gridcolor": "white",
           "linecolor": "white",
           "ticks": "",
           "zerolinecolor": "white",
           "zerolinewidth": 2
          },
          "yaxis": {
           "automargin": true,
           "gridcolor": "white",
           "linecolor": "white",
           "ticks": "",
           "zerolinecolor": "white",
           "zerolinewidth": 2
          }
         }
        },
        "title": {
         "text": "Shark Attacks"
        }
       }
      },
      "text/html": [
       "<div>\n",
       "        \n",
       "        \n",
       "            <div id=\"28ed09f0-68c3-413f-a411-67596b023183\" class=\"plotly-graph-div\" style=\"height:525px; width:100%;\"></div>\n",
       "            <script type=\"text/javascript\">\n",
       "                require([\"plotly\"], function(Plotly) {\n",
       "                    window.PLOTLYENV=window.PLOTLYENV || {};\n",
       "                    \n",
       "                if (document.getElementById(\"28ed09f0-68c3-413f-a411-67596b023183\")) {\n",
       "                    Plotly.newPlot(\n",
       "                        '28ed09f0-68c3-413f-a411-67596b023183',\n",
       "                        [{\"autocolorscale\": false, \"colorbar\": {\"tickprefix\": \"\", \"title\": {\"text\": \"Number of shark attacks recorded\"}}, \"colorscale\": [[0.0, \"rgb(255,245,240)\"], [0.125, \"rgb(254,224,210)\"], [0.25, \"rgb(252,187,161)\"], [0.375, \"rgb(252,146,114)\"], [0.5, \"rgb(251,106,74)\"], [0.625, \"rgb(239,59,44)\"], [0.75, \"rgb(203,24,29)\"], [0.875, \"rgb(165,15,21)\"], [1.0, \"rgb(103,0,13)\"]], \"locations\": [\"ABW\", \"AFG\", \"AGO\", \"AIA\", \"ALB\", \"AND\", \"ARE\", \"ARG\", \"ARM\", \"ASM\", \"ATG\", \"AUS\", \"AUT\", \"AZE\", \"BDI\", \"BEL\", \"BEN\", \"BFA\", \"BGD\", \"BGR\", \"BHM\", \"BHR\", \"BIH\", \"BLR\", \"BLZ\", \"BMU\", \"BOL\", \"BRA\", \"BRB\", \"BRN\", \"BTN\", \"BWA\", \"CAF\", \"CAN\", \"CHE\", \"CHL\", \"CHN\", \"CIV\", \"CMR\", \"COD\", \"COG\", \"COK\", \"COL\", \"COM\", \"CPV\", \"CRI\", \"CUB\", \"CUW\", \"CYM\", \"CYP\", \"CZE\", \"DEU\", \"DJI\", \"DMA\", \"DNK\", \"DOM\", \"DZA\", \"ECU\", \"EGY\", \"ERI\", \"ESP\", \"EST\", \"ETH\", \"FIN\", \"FJI\", \"FLK\", \"FRA\", \"FRO\", \"FSM\", \"GAB\", \"GBR\", \"GEO\", \"GGY\", \"GHA\", \"GIB\", \"GIN\", \"GMB\", \"GNB\", \"GNQ\", \"GRC\", \"GRD\", \"GRL\", \"GTM\", \"GUM\", \"GUY\", \"HKG\", \"HND\", \"HRV\", \"HTI\", \"HUN\", \"IDN\", \"IMN\", \"IND\", \"IRL\", \"IRN\", \"IRQ\", \"ISL\", \"ISR\", \"ITA\", \"JAM\", \"JEY\", \"JOR\", \"JPN\", \"KAZ\", \"KEN\", \"KGZ\", \"KHM\", \"KIR\", \"KNA\", \"KOR\", \"KSV\", \"KWT\", \"LAO\", \"LBN\", \"LBR\", \"LBY\", \"LCA\", \"LIE\", \"LKA\", \"LSO\", \"LTU\", \"LUX\", \"LVA\", \"MAC\", \"MAF\", \"MAR\", \"MCO\", \"MDA\", \"MDG\", \"MDV\", \"MEX\", \"MHL\", \"MKD\", \"MLI\", \"MLT\", \"MMR\", \"MNE\", \"MNG\", \"MNP\", \"MOZ\", \"MRT\", \"MUS\", \"MWI\", \"MYS\", \"NAM\", \"NCL\", \"NER\", \"NGA\", \"NIC\", \"NIU\", \"NLD\", \"NOR\", \"NPL\", \"NZL\", \"OMN\", \"PAK\", \"PAN\", \"PER\", \"PHL\", \"PLW\", \"PNG\", \"POL\", \"PRI\", \"PRK\", \"PRT\", \"PRY\", \"PYF\", \"QAT\", \"ROU\", \"RUS\", \"RWA\", \"SAU\", \"SDN\", \"SEN\", \"SGP\", \"SLB\", \"SLE\", \"SLV\", \"SMR\", \"SOM\", \"SPM\", \"SRB\", \"SSD\", \"STP\", \"SUR\", \"SVK\", \"SVN\", \"SWE\", \"SWZ\", \"SXM\", \"SYC\", \"SYR\", \"TCD\", \"TGO\", \"THA\", \"TJK\", \"TKM\", \"TLS\", \"TON\", \"TTO\", \"TUN\", \"TUR\", \"TUV\", \"TWN\", \"TZA\", \"UGA\", \"UKR\", \"URY\", \"USA\", \"UZB\", \"VCT\", \"VEN\", \"VGB\", \"VNM\", \"VUT\", \"WBG\", \"WSM\", \"YEM\", \"ZAF\", \"ZMB\", \"ZWE\"], \"marker\": {\"line\": {\"color\": \"darkgray\", \"width\": 0.5}}, \"reversescale\": false, \"text\": [\"ABW\", \"AFG\", \"AGO\", \"AIA\", \"ALB\", \"AND\", \"ARE\", \"ARG\", \"ARM\", \"ASM\", \"ATG\", \"AUS\", \"AUT\", \"AZE\", \"BDI\", \"BEL\", \"BEN\", \"BFA\", \"BGD\", \"BGR\", \"BHM\", \"BHR\", \"BIH\", \"BLR\", \"BLZ\", \"BMU\", \"BOL\", \"BRA\", \"BRB\", \"BRN\", \"BTN\", \"BWA\", \"CAF\", \"CAN\", \"CHE\", \"CHL\", \"CHN\", \"CIV\", \"CMR\", \"COD\", \"COG\", \"COK\", \"COL\", \"COM\", \"CPV\", \"CRI\", \"CUB\", \"CUW\", \"CYM\", \"CYP\", \"CZE\", \"DEU\", \"DJI\", \"DMA\", \"DNK\", \"DOM\", \"DZA\", \"ECU\", \"EGY\", \"ERI\", \"ESP\", \"EST\", \"ETH\", \"FIN\", \"FJI\", \"FLK\", \"FRA\", \"FRO\", \"FSM\", \"GAB\", \"GBR\", \"GEO\", \"GGY\", \"GHA\", \"GIB\", \"GIN\", \"GMB\", \"GNB\", \"GNQ\", \"GRC\", \"GRD\", \"GRL\", \"GTM\", \"GUM\", \"GUY\", \"HKG\", \"HND\", \"HRV\", \"HTI\", \"HUN\", \"IDN\", \"IMN\", \"IND\", \"IRL\", \"IRN\", \"IRQ\", \"ISL\", \"ISR\", \"ITA\", \"JAM\", \"JEY\", \"JOR\", \"JPN\", \"KAZ\", \"KEN\", \"KGZ\", \"KHM\", \"KIR\", \"KNA\", \"KOR\", \"KSV\", \"KWT\", \"LAO\", \"LBN\", \"LBR\", \"LBY\", \"LCA\", \"LIE\", \"LKA\", \"LSO\", \"LTU\", \"LUX\", \"LVA\", \"MAC\", \"MAF\", \"MAR\", \"MCO\", \"MDA\", \"MDG\", \"MDV\", \"MEX\", \"MHL\", \"MKD\", \"MLI\", \"MLT\", \"MMR\", \"MNE\", \"MNG\", \"MNP\", \"MOZ\", \"MRT\", \"MUS\", \"MWI\", \"MYS\", \"NAM\", \"NCL\", \"NER\", \"NGA\", \"NIC\", \"NIU\", \"NLD\", \"NOR\", \"NPL\", \"NZL\", \"OMN\", \"PAK\", \"PAN\", \"PER\", \"PHL\", \"PLW\", \"PNG\", \"POL\", \"PRI\", \"PRK\", \"PRT\", \"PRY\", \"PYF\", \"QAT\", \"ROU\", \"RUS\", \"RWA\", \"SAU\", \"SDN\", \"SEN\", \"SGP\", \"SLB\", \"SLE\", \"SLV\", \"SMR\", \"SOM\", \"SPM\", \"SRB\", \"SSD\", \"STP\", \"SUR\", \"SVK\", \"SVN\", \"SWE\", \"SWZ\", \"SXM\", \"SYC\", \"SYR\", \"TCD\", \"TGO\", \"THA\", \"TJK\", \"TKM\", \"TLS\", \"TON\", \"TTO\", \"TUN\", \"TUR\", \"TUV\", \"TWN\", \"TZA\", \"UGA\", \"UKR\", \"URY\", \"USA\", \"UZB\", \"VCT\", \"VEN\", \"VGB\", \"VNM\", \"VUT\", \"WBG\", \"WSM\", \"YEM\", \"ZAF\", \"ZMB\", \"ZWE\"], \"type\": \"choropleth\", \"z\": [1, 0, 0, 0, 0, 0, 3, 1, 0, 3, 1, 1126, 0, 0, 0, 0, 0, 0, 1, 0, 88, 0, 0, 0, 2, 15, 0, 99, 2, 0, 0, 0, 0, 7, 0, 8, 6, 0, 0, 0, 0, 0, 7, 0, 0, 12, 31, 1, 2, 1, 0, 0, 0, 0, 0, 7, 0, 8, 31, 0, 29, 0, 0, 0, 49, 1, 5, 0, 4, 1, 32, 0, 0, 0, 0, 0, 0, 0, 0, 11, 4, 1, 1, 4, 1, 22, 2, 26, 3, 0, 14, 0, 14, 1, 26, 5, 1, 7, 57, 19, 0, 0, 36, 0, 7, 0, 0, 2, 0, 7, 0, 1, 0, 1, 1, 2, 0, 0, 4, 0, 0, 0, 0, 0, 2, 0, 0, 0, 6, 1, 71, 11, 0, 0, 4, 0, 3, 0, 1, 40, 1, 62, 0, 4, 1, 47, 0, 2, 6, 0, 1, 1, 0, 96, 0, 0, 29, 0, 54, 5, 137, 0, 1, 0, 3, 0, 19, 0, 0, 4, 0, 2, 3, 11, 4, 26, 3, 4, 0, 5, 0, 0, 0, 0, 0, 0, 0, 1, 0, 0, 7, 0, 0, 0, 6, 0, 5, 0, 13, 3, 3, 11, 1, 9, 8, 0, 0, 1, 2011, 0, 0, 9, 2, 11, 11, 1, 7, 5, 531, 0, 0]}],\n",
       "                        {\"annotations\": [{\"showarrow\": false, \"text\": \"\", \"x\": 0, \"xref\": \"paper\", \"y\": 0, \"yref\": \"paper\"}], \"geo\": {\"projection\": {\"type\": \"equirectangular\"}, \"showcoastlines\": true, \"showframe\": false}, \"template\": {\"data\": {\"bar\": [{\"error_x\": {\"color\": \"#2a3f5f\"}, \"error_y\": {\"color\": \"#2a3f5f\"}, \"marker\": {\"line\": {\"color\": \"#E5ECF6\", \"width\": 0.5}}, \"type\": \"bar\"}], \"barpolar\": [{\"marker\": {\"line\": {\"color\": \"#E5ECF6\", \"width\": 0.5}}, \"type\": \"barpolar\"}], \"carpet\": [{\"aaxis\": {\"endlinecolor\": \"#2a3f5f\", \"gridcolor\": \"white\", \"linecolor\": \"white\", \"minorgridcolor\": \"white\", \"startlinecolor\": \"#2a3f5f\"}, \"baxis\": {\"endlinecolor\": \"#2a3f5f\", \"gridcolor\": \"white\", \"linecolor\": \"white\", \"minorgridcolor\": \"white\", \"startlinecolor\": \"#2a3f5f\"}, \"type\": \"carpet\"}], \"choropleth\": [{\"colorbar\": {\"outlinewidth\": 0, \"ticks\": \"\"}, \"type\": \"choropleth\"}], \"contour\": [{\"colorbar\": {\"outlinewidth\": 0, \"ticks\": \"\"}, \"colorscale\": [[0.0, \"#0d0887\"], [0.1111111111111111, \"#46039f\"], [0.2222222222222222, \"#7201a8\"], [0.3333333333333333, \"#9c179e\"], [0.4444444444444444, \"#bd3786\"], [0.5555555555555556, \"#d8576b\"], [0.6666666666666666, \"#ed7953\"], [0.7777777777777778, \"#fb9f3a\"], [0.8888888888888888, \"#fdca26\"], [1.0, \"#f0f921\"]], \"type\": \"contour\"}], \"contourcarpet\": [{\"colorbar\": {\"outlinewidth\": 0, \"ticks\": \"\"}, \"type\": \"contourcarpet\"}], \"heatmap\": [{\"colorbar\": {\"outlinewidth\": 0, \"ticks\": \"\"}, \"colorscale\": [[0.0, \"#0d0887\"], [0.1111111111111111, \"#46039f\"], [0.2222222222222222, \"#7201a8\"], [0.3333333333333333, \"#9c179e\"], [0.4444444444444444, \"#bd3786\"], [0.5555555555555556, \"#d8576b\"], [0.6666666666666666, \"#ed7953\"], [0.7777777777777778, \"#fb9f3a\"], [0.8888888888888888, \"#fdca26\"], [1.0, \"#f0f921\"]], \"type\": \"heatmap\"}], \"heatmapgl\": [{\"colorbar\": {\"outlinewidth\": 0, \"ticks\": \"\"}, \"colorscale\": [[0.0, \"#0d0887\"], [0.1111111111111111, \"#46039f\"], [0.2222222222222222, \"#7201a8\"], [0.3333333333333333, \"#9c179e\"], [0.4444444444444444, \"#bd3786\"], [0.5555555555555556, \"#d8576b\"], [0.6666666666666666, \"#ed7953\"], [0.7777777777777778, \"#fb9f3a\"], [0.8888888888888888, \"#fdca26\"], [1.0, \"#f0f921\"]], \"type\": \"heatmapgl\"}], \"histogram\": [{\"marker\": {\"colorbar\": {\"outlinewidth\": 0, \"ticks\": \"\"}}, \"type\": \"histogram\"}], \"histogram2d\": [{\"colorbar\": {\"outlinewidth\": 0, \"ticks\": \"\"}, \"colorscale\": [[0.0, \"#0d0887\"], [0.1111111111111111, \"#46039f\"], [0.2222222222222222, \"#7201a8\"], [0.3333333333333333, \"#9c179e\"], [0.4444444444444444, \"#bd3786\"], [0.5555555555555556, \"#d8576b\"], [0.6666666666666666, \"#ed7953\"], [0.7777777777777778, \"#fb9f3a\"], [0.8888888888888888, \"#fdca26\"], [1.0, \"#f0f921\"]], \"type\": \"histogram2d\"}], \"histogram2dcontour\": [{\"colorbar\": {\"outlinewidth\": 0, \"ticks\": \"\"}, \"colorscale\": [[0.0, \"#0d0887\"], [0.1111111111111111, \"#46039f\"], [0.2222222222222222, \"#7201a8\"], [0.3333333333333333, \"#9c179e\"], [0.4444444444444444, \"#bd3786\"], [0.5555555555555556, \"#d8576b\"], [0.6666666666666666, \"#ed7953\"], [0.7777777777777778, \"#fb9f3a\"], [0.8888888888888888, \"#fdca26\"], [1.0, \"#f0f921\"]], \"type\": \"histogram2dcontour\"}], \"mesh3d\": [{\"colorbar\": {\"outlinewidth\": 0, \"ticks\": \"\"}, \"type\": \"mesh3d\"}], \"parcoords\": [{\"line\": {\"colorbar\": {\"outlinewidth\": 0, \"ticks\": \"\"}}, \"type\": \"parcoords\"}], \"scatter\": [{\"marker\": {\"colorbar\": {\"outlinewidth\": 0, \"ticks\": \"\"}}, \"type\": \"scatter\"}], \"scatter3d\": [{\"line\": {\"colorbar\": {\"outlinewidth\": 0, \"ticks\": \"\"}}, \"marker\": {\"colorbar\": {\"outlinewidth\": 0, \"ticks\": \"\"}}, \"type\": \"scatter3d\"}], \"scattercarpet\": [{\"marker\": {\"colorbar\": {\"outlinewidth\": 0, \"ticks\": \"\"}}, \"type\": \"scattercarpet\"}], \"scattergeo\": [{\"marker\": {\"colorbar\": {\"outlinewidth\": 0, \"ticks\": \"\"}}, \"type\": \"scattergeo\"}], \"scattergl\": [{\"marker\": {\"colorbar\": {\"outlinewidth\": 0, \"ticks\": \"\"}}, \"type\": \"scattergl\"}], \"scattermapbox\": [{\"marker\": {\"colorbar\": {\"outlinewidth\": 0, \"ticks\": \"\"}}, \"type\": \"scattermapbox\"}], \"scatterpolar\": [{\"marker\": {\"colorbar\": {\"outlinewidth\": 0, \"ticks\": \"\"}}, \"type\": \"scatterpolar\"}], \"scatterpolargl\": [{\"marker\": {\"colorbar\": {\"outlinewidth\": 0, \"ticks\": \"\"}}, \"type\": \"scatterpolargl\"}], \"scatterternary\": [{\"marker\": {\"colorbar\": {\"outlinewidth\": 0, \"ticks\": \"\"}}, \"type\": \"scatterternary\"}], \"surface\": [{\"colorbar\": {\"outlinewidth\": 0, \"ticks\": \"\"}, \"colorscale\": [[0.0, \"#0d0887\"], [0.1111111111111111, \"#46039f\"], [0.2222222222222222, \"#7201a8\"], [0.3333333333333333, \"#9c179e\"], [0.4444444444444444, \"#bd3786\"], [0.5555555555555556, \"#d8576b\"], [0.6666666666666666, \"#ed7953\"], [0.7777777777777778, \"#fb9f3a\"], [0.8888888888888888, \"#fdca26\"], [1.0, \"#f0f921\"]], \"type\": \"surface\"}], \"table\": [{\"cells\": {\"fill\": {\"color\": \"#EBF0F8\"}, \"line\": {\"color\": \"white\"}}, \"header\": {\"fill\": {\"color\": \"#C8D4E3\"}, \"line\": {\"color\": \"white\"}}, \"type\": \"table\"}]}, \"layout\": {\"annotationdefaults\": {\"arrowcolor\": \"#2a3f5f\", \"arrowhead\": 0, \"arrowwidth\": 1}, \"colorscale\": {\"diverging\": [[0, \"#8e0152\"], [0.1, \"#c51b7d\"], [0.2, \"#de77ae\"], [0.3, \"#f1b6da\"], [0.4, \"#fde0ef\"], [0.5, \"#f7f7f7\"], [0.6, \"#e6f5d0\"], [0.7, \"#b8e186\"], [0.8, \"#7fbc41\"], [0.9, \"#4d9221\"], [1, \"#276419\"]], \"sequential\": [[0.0, \"#0d0887\"], [0.1111111111111111, \"#46039f\"], [0.2222222222222222, \"#7201a8\"], [0.3333333333333333, \"#9c179e\"], [0.4444444444444444, \"#bd3786\"], [0.5555555555555556, \"#d8576b\"], [0.6666666666666666, \"#ed7953\"], [0.7777777777777778, \"#fb9f3a\"], [0.8888888888888888, \"#fdca26\"], [1.0, \"#f0f921\"]], \"sequentialminus\": [[0.0, \"#0d0887\"], [0.1111111111111111, \"#46039f\"], [0.2222222222222222, \"#7201a8\"], [0.3333333333333333, \"#9c179e\"], [0.4444444444444444, \"#bd3786\"], [0.5555555555555556, \"#d8576b\"], [0.6666666666666666, \"#ed7953\"], [0.7777777777777778, \"#fb9f3a\"], [0.8888888888888888, \"#fdca26\"], [1.0, \"#f0f921\"]]}, \"colorway\": [\"#636efa\", \"#EF553B\", \"#00cc96\", \"#ab63fa\", \"#FFA15A\", \"#19d3f3\", \"#FF6692\", \"#B6E880\", \"#FF97FF\", \"#FECB52\"], \"font\": {\"color\": \"#2a3f5f\"}, \"geo\": {\"bgcolor\": \"white\", \"lakecolor\": \"white\", \"landcolor\": \"#E5ECF6\", \"showlakes\": true, \"showland\": true, \"subunitcolor\": \"white\"}, \"hoverlabel\": {\"align\": \"left\"}, \"hovermode\": \"closest\", \"mapbox\": {\"style\": \"light\"}, \"paper_bgcolor\": \"white\", \"plot_bgcolor\": \"#E5ECF6\", \"polar\": {\"angularaxis\": {\"gridcolor\": \"white\", \"linecolor\": \"white\", \"ticks\": \"\"}, \"bgcolor\": \"#E5ECF6\", \"radialaxis\": {\"gridcolor\": \"white\", \"linecolor\": \"white\", \"ticks\": \"\"}}, \"scene\": {\"xaxis\": {\"backgroundcolor\": \"#E5ECF6\", \"gridcolor\": \"white\", \"gridwidth\": 2, \"linecolor\": \"white\", \"showbackground\": true, \"ticks\": \"\", \"zerolinecolor\": \"white\"}, \"yaxis\": {\"backgroundcolor\": \"#E5ECF6\", \"gridcolor\": \"white\", \"gridwidth\": 2, \"linecolor\": \"white\", \"showbackground\": true, \"ticks\": \"\", \"zerolinecolor\": \"white\"}, \"zaxis\": {\"backgroundcolor\": \"#E5ECF6\", \"gridcolor\": \"white\", \"gridwidth\": 2, \"linecolor\": \"white\", \"showbackground\": true, \"ticks\": \"\", \"zerolinecolor\": \"white\"}}, \"shapedefaults\": {\"line\": {\"color\": \"#2a3f5f\"}}, \"ternary\": {\"aaxis\": {\"gridcolor\": \"white\", \"linecolor\": \"white\", \"ticks\": \"\"}, \"baxis\": {\"gridcolor\": \"white\", \"linecolor\": \"white\", \"ticks\": \"\"}, \"bgcolor\": \"#E5ECF6\", \"caxis\": {\"gridcolor\": \"white\", \"linecolor\": \"white\", \"ticks\": \"\"}}, \"title\": {\"x\": 0.05}, \"xaxis\": {\"automargin\": true, \"gridcolor\": \"white\", \"linecolor\": \"white\", \"ticks\": \"\", \"zerolinecolor\": \"white\", \"zerolinewidth\": 2}, \"yaxis\": {\"automargin\": true, \"gridcolor\": \"white\", \"linecolor\": \"white\", \"ticks\": \"\", \"zerolinecolor\": \"white\", \"zerolinewidth\": 2}}}, \"title\": {\"text\": \"Shark Attacks\"}},\n",
       "                        {\"responsive\": true}\n",
       "                    ).then(function(){\n",
       "                            \n",
       "var gd = document.getElementById('28ed09f0-68c3-413f-a411-67596b023183');\n",
       "var x = new MutationObserver(function (mutations, observer) {{\n",
       "        var display = window.getComputedStyle(gd).display;\n",
       "        if (!display || display === 'none') {{\n",
       "            console.log([gd, 'removed!']);\n",
       "            Plotly.purge(gd);\n",
       "            observer.disconnect();\n",
       "        }}\n",
       "}});\n",
       "\n",
       "// Listen for the removal of the full notebook cells\n",
       "var notebookContainer = gd.closest('#notebook-container');\n",
       "if (notebookContainer) {{\n",
       "    x.observe(notebookContainer, {childList: true});\n",
       "}}\n",
       "\n",
       "// Listen for the clearing of the current output cell\n",
       "var outputEl = gd.closest('.output');\n",
       "if (outputEl) {{\n",
       "    x.observe(outputEl, {childList: true});\n",
       "}}\n",
       "\n",
       "                        })\n",
       "                };\n",
       "                });\n",
       "            </script>\n",
       "        </div>"
      ]
     },
     "metadata": {},
     "output_type": "display_data"
    }
   ],
   "source": [
    "fig = go.Figure(data=go.Choropleth(\n",
    "    locations = df_map['country'],\n",
    "    z = df_map['country2'],\n",
    "    text = df_map['country'],\n",
    "    colorscale = 'Reds',\n",
    "    autocolorscale=False,\n",
    "    reversescale=False,\n",
    "    marker_line_color='darkgray',\n",
    "    marker_line_width=0.5,\n",
    "    colorbar_tickprefix = '',\n",
    "    colorbar_title = 'Number of shark attacks recorded',\n",
    "))\n",
    "\n",
    "fig.update_layout(\n",
    "    title_text='Shark Attacks',\n",
    "    geo=dict(\n",
    "        showframe=False,\n",
    "        showcoastlines=True,\n",
    "        projection_type='equirectangular'\n",
    "    ),\n",
    "    annotations = [dict(\n",
    "        x=0,\n",
    "        y=0,\n",
    "        xref='paper',\n",
    "        yref='paper',\n",
    "        text='',\n",
    "        showarrow = False,\n",
    "    )]\n",
    ")\n",
    "\n",
    "fig.show()"
   ]
  },
  {
   "cell_type": "markdown",
   "metadata": {},
   "source": [
    "Visualize the number of attacks with regards to the activity the victim was involved in when the attack occurred"
   ]
  },
  {
   "cell_type": "code",
   "execution_count": 37,
   "metadata": {},
   "outputs": [
    {
     "data": {
      "text/plain": [
       "<matplotlib.axes._subplots.AxesSubplot at 0x1a1a976cc0>"
      ]
     },
     "execution_count": 37,
     "metadata": {},
     "output_type": "execute_result"
    },
    {
     "data": {
      "image/png": "[encoded data removed]",
      "text/plain": [
       "<Figure size 1152x432 with 1 Axes>"
      ]
     },
     "metadata": {
      "needs_background": "light"
     },
     "output_type": "display_data"
    }
   ],
   "source": [
    "df.groupby('activity')['date'].count().sort_values(ascending=False).plot(kind=\"bar\", figsize=(16,6))"
   ]
  },
  {
   "cell_type": "markdown",
   "metadata": {},
   "source": [
    "We can also visualize the data with regards to activity, but in terms of the degree of submergion in the water"
   ]
  },
  {
   "cell_type": "code",
   "execution_count": 38,
   "metadata": {},
   "outputs": [
    {
     "data": {
      "text/plain": [
       "<matplotlib.axes._subplots.AxesSubplot at 0x1a1a9e28d0>"
      ]
     },
     "execution_count": 38,
     "metadata": {},
     "output_type": "execute_result"
    },
    {
     "data": {
      "image/png": "[encoded data removed]",
      "text/plain": [
       "<Figure size 1152x432 with 1 Axes>"
      ]
     },
     "metadata": {
      "needs_background": "light"
     },
     "output_type": "display_data"
    }
   ],
   "source": [
    "df[['submerged','mid_submerged','not_submerged']].sum().plot(kind=\"bar\", figsize=(16,6))"
   ]
  },
  {
   "cell_type": "markdown",
   "metadata": {},
   "source": [
    "Next, let's examine how likely it is for a male to be exposed to a shark attack as opposed to a female and find the percentage"
   ]
  },
  {
   "cell_type": "code",
   "execution_count": 39,
   "metadata": {
    "scrolled": true
   },
   "outputs": [
    {
     "data": {
      "text/plain": [
       "1    89.739229\n",
       "0    10.260771\n",
       "Name: is_male, dtype: float64"
      ]
     },
     "execution_count": 39,
     "metadata": {},
     "output_type": "execute_result"
    }
   ],
   "source": [
    "(df['is_male'].value_counts(normalize=True) * 100)"
   ]
  },
  {
   "cell_type": "code",
   "execution_count": 40,
   "metadata": {},
   "outputs": [
    {
     "data": {
      "text/plain": [
       "<matplotlib.axes._subplots.AxesSubplot at 0x1032a5b38>"
      ]
     },
     "execution_count": 40,
     "metadata": {},
     "output_type": "execute_result"
    },
    {
     "data": {
      "image/png": "[encoded data removed]",
      "text/plain": [
       "<Figure size 432x288 with 1 Axes>"
      ]
     },
     "metadata": {},
     "output_type": "display_data"
    }
   ],
   "source": [
    "df.groupby('is_male')['date'].count().plot(kind=\"pie\")"
   ]
  },
  {
   "cell_type": "markdown",
   "metadata": {},
   "source": [
    "Finally, let's visualize how the victim's age correlated with the likelihood of being attacled by a shark"
   ]
  },
  {
   "cell_type": "code",
   "execution_count": 41,
   "metadata": {},
   "outputs": [
    {
     "data": {
      "text/plain": [
       "<matplotlib.axes._subplots.AxesSubplot at 0x1a1af5a978>"
      ]
     },
     "execution_count": 41,
     "metadata": {},
     "output_type": "execute_result"
    },
    {
     "data": {
      "image/png": "[encoded data removed]",
      "text/plain": [
       "<Figure size 1152x432 with 1 Axes>"
      ]
     },
     "metadata": {
      "needs_background": "light"
     },
     "output_type": "display_data"
    }
   ],
   "source": [
    "df.groupby('age')['date'].count().plot(figsize=(16,6))"
   ]
  },
  {
   "cell_type": "markdown",
   "metadata": {},
   "source": [
    "# ---\n",
    "# Conclusions we can draw from the visualization of our data set:\n",
    "\n",
    "<h3>- When examining the data chronologically, we can see that there is a slight and steady increase in the number of shark attacks over time, which can be easily explained by the growth of human population and the use of more beaches and open waters around the world, however there are 2 large spikes in data:</h3>\n",
    "    \n",
    "    - 1905: where I imagine this was caused by gathering this data, an excersize which was likely not performed before, which would result in large number of reports due to people remembering events from previous years.\n",
    "    \n",
    "    - 1959 & 1960: this seemed strange at first, however, after researching the issue further, I found that it is possible this can be attributed to the social movements and social rise of liberal values that drove more people to out-going nature and outdoor events and social venues.\n",
    "\n",
    "<h3>- USA by far has the most number of occurrances of shark attacks, followed by Australia, and then South Africa, then the number drops significantly for other areas as seen in the chart for countries such as Papua New Guineua, Brazil, New Zeland, etc. This makes sense if the exposure of the country to the ocean is a big stretch of beaches as well as the population of the country</h3>\n",
    "\n",
    "<h3>- We can observe that the activities most correlated with the number of shark attacks are swimming, surfing, and fishing, followed by accidents, then diving and finally the least correlated was boat related activities. This makes sense in a few ways:</h3>\n",
    "\n",
    "    - While engaged in activities such as swimming or surfing, the individual does not have full vision or their surroundings, mainly below them, and they can resemble turtles or other sea creatures, which might attract a shark to attack them.\n",
    "    \n",
    "    - Divers on the other hand have a better view of their surroundings and it is easier for the shark to recognize that they are not their usual prey, thus somewhat discouraging the shark from attacking.\n",
    "\n",
    "    - Lastly, boat related activities seem to be safest, which makes sense since the individuals are on a vehicle with a hard surface and they have much more freedom of movement and are more in control of the situation.\n",
    "    \n",
    "    * There is an anamoly seen on the submergion level chart, where it shows that mid_submerged has a bigger number of shark attacks than not_submerged, however I accredit that to the fact that my grouping of the activities included boat related activities and fishing, and when an incident occurs in those situations the individual ultimately ends up being submerged in the water (however since I can't determine exactly what the situation was like, I decided to leave them as they are).\n",
    "\n",
    "<h3>- We can see that the vast majority of individuals involved in these incidents are male, this is to be expected since more males partake in sports such as surfing and sailing than females (please see below source)</h3>\n",
    "\n",
    "https://www.surfertoday.com/surfing/how-many-surfers-are-there-in-the-world\n",
    "https://gearjunkie.com/women-fishing-advocacy-access\n",
    "\n",
    "<h3>- Finally we see that the overwhelming majority of attacks happen to individuals between the ages of 26 and 29, this is to be expected as most young beach goers who participate in activities such as surfing, fishing, swimming, etc.. would logically be in that age group (much younger would be busy with school and early work life, older than that would be busy with family life and further responsibilities (an extra source of information linked below)</h3>\n",
    "\n",
    "https://www.ncbi.nlm.nih.gov/pmc/articles/PMC4639932/"
   ]
  },
  {
   "cell_type": "markdown",
   "metadata": {},
   "source": [
    "# ---\n",
    "# In this section, I will try to answer the last question in my introduction (In the scenario of a shark attack occurring, is there any modeling we can do that could predict the likelyhood of surviving the attack given the data in this dataset?)\n",
    "\n",
    "<h3>- Although I have not yet dived deep enough in the field of predictive modeling and machine learning, I do have a general idea of it, and upon a bit of research I found that Logistic Regression seems to be the best model to use in this study since the outcome we are trying to predict is binary (fatal or not fatal), In this section that is what I will be attempting to accomplish</h3>"
   ]
  },
  {
   "cell_type": "markdown",
   "metadata": {},
   "source": [
    "First, let's make a new dataframe that we will use for the logistic regression which we will call reg_df"
   ]
  },
  {
   "cell_type": "code",
   "execution_count": 42,
   "metadata": {},
   "outputs": [],
   "source": [
    "reg_df = df[['submerged','mid_submerged','not_submerged','is_male','age','fatal']].copy()"
   ]
  },
  {
   "cell_type": "markdown",
   "metadata": {},
   "source": [
    "Perform the train_test_split, this is where we split our data into a training set which will provide the data our model will use to find correlation and a test set which we will use to evaluate our prediction model (this uses the confusion matrix and evaluates accuracy based on (true positive + true negative / total) or (false negative + false positive / total)"
   ]
  },
  {
   "cell_type": "code",
   "execution_count": 43,
   "metadata": {},
   "outputs": [],
   "source": [
    "# import the train_test_split function from SciKitLearn library\n",
    "from sklearn.model_selection import train_test_split\n",
    "# split the data into test and train by 80% to 20% after dropping the dependant variable 'fatal'\n",
    "X_train, X_test, y_train, y_test = train_test_split(reg_df.drop('fatal', axis=1), \n",
    "                                                    reg_df['fatal'], \n",
    "                                                    test_size=0.20, \n",
    "                                                    random_state=101,)"
   ]
  },
  {
   "cell_type": "code",
   "execution_count": 44,
   "metadata": {},
   "outputs": [],
   "source": [
    "# import the logistic regression function from SciKitLearn library and assign it to a variable\n",
    "from sklearn.linear_model import LogisticRegression\n",
    "log_reg = LogisticRegression(solver='lbfgs')\n",
    "# fit our training and test data into the regression model function\n",
    "log_reg.fit(X_train, y_train)\n",
    "# assign our prediction results to a variable\n",
    "predictions = log_reg.predict(X_test)"
   ]
  },
  {
   "cell_type": "markdown",
   "metadata": {},
   "source": [
    "Let's evaluate how well our model was able to predict whether an attack would be fatal or not after testing the model on the test data and comparing the results with the actual values in the 'fatal' column of the test data"
   ]
  },
  {
   "cell_type": "code",
   "execution_count": 45,
   "metadata": {},
   "outputs": [
    {
     "name": "stdout",
     "output_type": "stream",
     "text": [
      "              precision    recall  f1-score   support\n",
      "\n",
      "           0       0.78      1.00      0.87       821\n",
      "           1       0.00      0.00      0.00       238\n",
      "\n",
      "    accuracy                           0.78      1059\n",
      "   macro avg       0.39      0.50      0.44      1059\n",
      "weighted avg       0.60      0.78      0.68      1059\n",
      "\n"
     ]
    },
    {
     "name": "stderr",
     "output_type": "stream",
     "text": [
      "//anaconda3/lib/python3.7/site-packages/sklearn/metrics/classification.py:1437: UndefinedMetricWarning:\n",
      "\n",
      "Precision and F-score are ill-defined and being set to 0.0 in labels with no predicted samples.\n",
      "\n"
     ]
    }
   ],
   "source": [
    "# import the classification report function from SciKitLearn library and get the report\n",
    "from sklearn.metrics import classification_report\n",
    "print(classification_report(y_test,predictions))"
   ]
  },
  {
   "cell_type": "markdown",
   "metadata": {},
   "source": [
    "# ---\n",
    "# Conclusion:\n",
    "\n",
    "# 1- I learned a lot of information about the different variables surrounding the shark attacks, and which conditions, characteristics, and activities are more or less likely to have correlation or causation with the likelihood of a shark attack occurring.\n",
    "\n",
    "# 2- Given this data, and the wonderful libraries and tools available to us in statistical modeling and python, we were able to predict with 78% accuracy the fatality rate of a shark attack incident once it occurs, taking into consideration the different features of data like submergion level, activity, gender, and age.\n",
    "\n",
    "<h3>* This might not be the most accurate model for such a study, but I cannot help but feel excited and intrigued by the possibilities of what can be achieved with such technologies and methods to serve us in understanding other patterns and events in our daily life.</h3>"
   ]
  },
  {
   "cell_type": "markdown",
   "metadata": {},
   "source": [
    "# ---\n",
    "# Limitations:\n",
    "\n",
    "<h3>It is important to understand that there are limitations which might affect the accuracy and outcome of our study, which might have lead to the 22% error rate in our predictive model as well:</h3>\n",
    "\n",
    "    - Some activities are vague and do not paint a clear picture of how exposed and vurnarable the individual was when the attack occurred, an example would be 'fishing', as this does not tell us was the individual fishing on a boat and fell into the water, or were they knee deep in the water and were attacked anyway, each of those scenarios would affect the outcome greatly and help us understand the correlation a lot better if it was available.\n",
    "    \n",
    "    - I was not able to definitively find the cause of some anamolies in the results of our visualization phase and resorted to making a logical guess, as there simply isn't enough information to find the exact cause of the anamoly. An example would be the spikes in shark attacks in 1905 and 1960, or the fact that the majority of attacks targetted individuals between the ages of 26 and 29.\n",
    "    \n",
    "    - Even though I have a fair understanding of a few statistical modeling methods, I'm by no means an expert in the subject and it is fair to assume that with further knowledge, there is a good chance that there might be a better model to use for this type of prediction analysis that would produce a higher accuracy rate."
   ]
  },
  {
   "cell_type": "markdown",
   "metadata": {},
   "source": [
    "# ---\n",
    "# Closing:\n",
    "\n",
    "<h3>If I managed to keep you present and interested until this point, I sincerely thank you and I truly hope that I was able to provide you with some degree of insight and useful knowledge =)</h3>"
   ]
  }
 ],
 "metadata": {
  "kernelspec": {
   "display_name": "Python 3",
   "language": "python",
   "name": "python3"
  },
  "language_info": {
   "codemirror_mode": {
    "name": "ipython",
    "version": 3
   },
   "file_extension": ".py",
   "mimetype": "text/x-python",
   "name": "python",
   "nbconvert_exporter": "python",
   "pygments_lexer": "ipython3",
   "version": "3.7.3"
  }
 },
 "nbformat": 4,
 "nbformat_minor": 2
}
